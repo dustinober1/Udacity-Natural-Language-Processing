{
 "cells": [
  {
   "cell_type": "markdown",
   "metadata": {},
   "source": [
    "# Sentiment Analysis\n",
    "\n",
    "_Natural Language Processing Nanodegree Program_\n",
    "\n",
    "---"
   ]
  },
  {
   "cell_type": "markdown",
   "metadata": {},
   "source": [
    "## Step 5: Switching gears - RNNs\n",
    "\n",
    "We just saw how the task of sentiment analysis can be solved via a traditional machine learning approach: BoW + a nonlinear classifier. We now switch gears and use Recurrent Neural Networks, and in particular LSTMs, to perform sentiment analysis in Keras. Conveniently, Keras has a built-in [IMDb movie reviews dataset](https://keras.io/datasets/#imdb-movie-reviews-sentiment-classification) that we can use, with the same vocabulary size."
   ]
  },
  {
   "cell_type": "code",
   "execution_count": 1,
   "metadata": {},
   "outputs": [
    {
     "name": "stderr",
     "output_type": "stream",
     "text": [
      "Using TensorFlow backend.\n"
     ]
    },
    {
     "name": "stdout",
     "output_type": "stream",
     "text": [
      "Downloading data from https://s3.amazonaws.com/text-datasets/imdb.npz\n",
      "17465344/17464789 [==============================] - 0s 0us/step\n",
      "Loaded dataset with 25000 training samples, 25000 test samples\n"
     ]
    }
   ],
   "source": [
    "from keras.datasets import imdb  # import the built-in imdb dataset in Keras\n",
    "\n",
    "# Set the vocabulary size\n",
    "vocabulary_size = 5000\n",
    "\n",
    "# Load in training and test data (note the difference in convention compared to scikit-learn)\n",
    "(X_train, y_train), (X_test, y_test) = imdb.load_data(num_words=vocabulary_size)\n",
    "print(\"Loaded dataset with {} training samples, {} test samples\".format(len(X_train), len(X_test)))"
   ]
  },
  {
   "cell_type": "code",
   "execution_count": 2,
   "metadata": {},
   "outputs": [
    {
     "name": "stdout",
     "output_type": "stream",
     "text": [
      "--- Review ---\n",
      "[1, 159, 13, 380, 387, 72, 135, 15, 13, 1314, 264, 11, 558, 13, 264, 11, 1827, 5, 11, 609, 4839, 150, 15, 1584, 46, 7, 4, 96, 13, 43, 3030, 135, 15, 51, 11, 4, 182, 81, 134, 2, 15, 683, 533, 2, 104, 36, 26, 399, 4, 236, 58, 13, 2, 6, 3232, 152, 2, 2, 3680, 1061, 2, 23, 248, 42, 353, 8, 2, 68, 205, 4580, 180, 175, 2411, 1357, 15, 2, 1646, 4, 1308, 32, 7, 134, 15, 932, 3192, 2, 3407, 2, 1802, 2, 1461, 3332, 2, 127, 2933, 13, 244, 32, 18, 879, 2491, 21, 237, 54, 127, 15, 1108, 6, 232, 37, 184, 76, 560, 15, 48, 25, 2, 125, 27, 4223, 96, 7, 113, 25, 26, 208, 245, 1412, 8, 609, 14, 9, 43, 6, 404, 463, 7, 138, 2206, 9, 4, 1203, 7, 2, 111, 712, 31, 251, 11, 61, 707, 673, 75, 69, 6, 2, 1750, 11, 38, 75, 872, 8, 106, 49, 248, 237, 4, 3336, 161, 202, 178, 101, 157, 5, 75, 429, 111, 7, 2, 80, 296, 2, 1333, 5, 7, 265, 15, 3399, 3332, 16, 23, 2, 5, 2, 44, 4, 3407, 5, 29, 301, 2182, 367, 4, 411, 7, 558, 560, 2, 9, 6, 3074, 5, 13, 165, 557, 6, 554, 140, 2, 13, 482, 240, 208, 2, 615, 48, 4, 3232, 9, 269, 8, 97, 84, 104, 15, 294, 2, 861, 2, 9, 6, 666, 3074, 95, 36, 615, 359, 8, 193, 15, 3232, 2, 2214, 98, 5, 1402, 98, 125, 7, 6, 3790, 2, 11, 4, 655, 7, 4, 2]\n",
      "--- Label ---\n",
      "0\n"
     ]
    }
   ],
   "source": [
    "# Inspect a sample review and its label\n",
    "print(\"--- Review ---\")\n",
    "print(X_train[7])\n",
    "print(\"--- Label ---\")\n",
    "print(y_train[7])"
   ]
  },
  {
   "cell_type": "markdown",
   "metadata": {},
   "source": [
    "Notice that the label is an integer (0 for negative, 1 for positive), and the review itself is stored as a sequence of integers. These are word IDs that have been preassigned to individual words. To map them back to the original words, you can use the dictionary returned by `imdb.get_word_index()`."
   ]
  },
  {
   "cell_type": "code",
   "execution_count": 3,
   "metadata": {},
   "outputs": [
    {
     "name": "stdout",
     "output_type": "stream",
     "text": [
      "Downloading data from https://s3.amazonaws.com/text-datasets/imdb_word_index.json\n",
      "1646592/1641221 [==============================] - 0s 0us/step\n",
      "--- Review (with words) ---\n",
      "['the', 'new', 'was', 'sex', 'episode', 'we', 'why', 'for', 'was', 'key', 'looking', 'this', 'moment', 'was', 'looking', 'this', 'community', 'to', 'this', 'number', 'peoples', 'years', 'for', 'turning', 'some', 'br', 'of', 'too', 'was', 'out', 'intensity', 'why', 'for', 'when', 'this', 'of', 'young', 'people', 'while', 'and', 'for', 'single', 'thinking', 'and', 'two', 'from', 'he', 'early', 'of', 'performance', 'my', 'was', 'and', 'is', 'gain', 'thing', 'and', 'and', 'jealous', 'waiting', 'and', 'are', 'day', \"it's\", 'classic', 'in', 'and', 'were', 'right', 'vice', 'things', 'us', 'shocked', 'cinematic', 'for', 'and', 'clothes', 'of', 'journey', 'an', 'br', 'while', 'for', 'plus', 'weapon', 'and', 'stunt', 'and', 'joy', 'and', 'offer', 'colour', 'and', 'end', 'cases', 'was', 'rather', 'an', 'but', 'truth', 'harsh', 'not', \"he's\", 'no', 'end', 'for', 'island', 'is', 'feel', 'like', 'around', 'get', 'leave', 'for', 'what', 'have', 'and', 'better', 'be', 'montage', 'too', 'br', 'acting', 'have', 'he', 'times', 'tv', 'cry', 'in', 'number', 'as', 'it', 'out', 'is', 'definitely', 'despite', 'br', 'such', 'described', 'it', 'of', 'u', 'br', 'and', 'plot', 'words', 'by', 'hard', 'this', 'only', 'silly', 'talent', 'bad', 'me', 'is', 'and', 'watchable', 'this', 'her', 'bad', 'subject', 'in', 'character', 'good', 'day', \"he's\", 'of', 'rocks', 'nothing', 'own', 'want', 'think', 'another', 'to', 'bad', 'sort', 'plot', 'br', 'and', 'into', 'plays', 'and', 'blue', 'to', 'br', 'screen', 'for', 'relevant', 'colour', 'with', 'are', 'and', 'to', 'and', 'has', 'of', 'stunt', 'to', 'all', 'takes', 'nevertheless', 'camera', 'of', 'dialogue', 'br', 'moment', 'leave', 'and', 'it', 'is', 'internet', 'to', 'was', 'look', 'says', 'is', 'heard', 'through', 'and', 'was', 'lead', 'kind', 'times', 'and', 'exactly', 'what', 'of', 'gain', 'it', 'looks', 'in', 'could', 'great', 'two', 'for', 'play', 'and', 'okay', 'and', 'it', 'is', 'mostly', 'internet', 'them', 'from', 'exactly', 'kids', 'in', 'long', 'for', 'gain', 'and', 'president', 'any', 'to', 'double', 'any', 'better', 'br', 'is', 'reasonable', 'and', 'this', 'of', 'husband', 'br', 'of', 'and']\n",
      "--- Label ---\n",
      "0\n"
     ]
    }
   ],
   "source": [
    "# Map word IDs back to words\n",
    "word2id = imdb.get_word_index()\n",
    "id2word = {i: word for word, i in word2id.items()}\n",
    "print(\"--- Review (with words) ---\")\n",
    "print([id2word.get(i, \" \") for i in X_train[7]])\n",
    "print(\"--- Label ---\")\n",
    "print(y_train[7])"
   ]
  },
  {
   "cell_type": "markdown",
   "metadata": {},
   "source": [
    "Unlike our Bag-of-Words approach, where we simply summarized the counts of each word in a document, this representation essentially retains the entire sequence of words (minus punctuation, stopwords, etc.). This is critical for RNNs to function. But it also means that now the features can be of different lengths!\n",
    "\n",
    "#### Question: Variable length reviews\n",
    "\n",
    "What is the maximum review length (in terms of number of words) in the training set? What is the minimum?\n",
    "\n",
    "#### Answer:\n",
    "\n",
    "...\n",
    "\n",
    "\n",
    "### TODO: Pad sequences\n",
    "\n",
    "In order to feed this data into your RNN, all input documents must have the same length. Let's limit the maximum review length to `max_words` by truncating longer reviews and padding shorter reviews with a null value (0). You can accomplish this easily using the [`pad_sequences()`](https://keras.io/preprocessing/sequence/#pad_sequences) function in Keras. For now, set `max_words` to 500."
   ]
  },
  {
   "cell_type": "code",
   "execution_count": 4,
   "metadata": {},
   "outputs": [],
   "source": [
    "from keras.preprocessing import sequence\n",
    "\n",
    "# Set the maximum number of words per document (for both training and testing)\n",
    "max_words = 500\n",
    "\n",
    "# TODO: Pad sequences in X_train and X_test\n",
    "X_train = sequence.pad_sequences(X_train, maxlen=max_words)\n",
    "X_test = sequence.pad_sequences(X_test, maxlen=max_words)"
   ]
  },
  {
   "cell_type": "markdown",
   "metadata": {},
   "source": [
    "### TODO: Design an RNN model for sentiment analysis\n",
    "\n",
    "Build your model architecture in the code cell below. We have imported some layers from Keras that you might need but feel free to use any other layers / transformations you like.\n",
    "\n",
    "Remember that your input is a sequence of words (technically, integer word IDs) of maximum length = `max_words`, and your output is a binary sentiment label (0 or 1)."
   ]
  },
  {
   "cell_type": "code",
   "execution_count": 5,
   "metadata": {},
   "outputs": [
    {
     "name": "stdout",
     "output_type": "stream",
     "text": [
      "_________________________________________________________________\n",
      "Layer (type)                 Output Shape              Param #   \n",
      "=================================================================\n",
      "embedding_1 (Embedding)      (None, 500, 32)           160000    \n",
      "_________________________________________________________________\n",
      "lstm_1 (LSTM)                (None, 100)               53200     \n",
      "_________________________________________________________________\n",
      "dense_1 (Dense)              (None, 1)                 101       \n",
      "=================================================================\n",
      "Total params: 213,301\n",
      "Trainable params: 213,301\n",
      "Non-trainable params: 0\n",
      "_________________________________________________________________\n",
      "None\n"
     ]
    }
   ],
   "source": [
    "from keras.models import Sequential\n",
    "from keras.layers import Embedding, LSTM, Dense, Dropout\n",
    "\n",
    "# TODO: Design your model\n",
    "embedding_size = 32\n",
    "model = Sequential()\n",
    "model.add(Embedding(vocabulary_size, embedding_size, input_length=max_words))\n",
    "model.add(LSTM(100))\n",
    "model.add(Dense(1, activation='sigmoid'))\n",
    "\n",
    "print(model.summary())"
   ]
  },
  {
   "cell_type": "markdown",
   "metadata": {},
   "source": [
    "#### Question: Architecture and parameters\n",
    "\n",
    "Briefly describe your neural net architecture. How many model parameters does it have that need to be trained?\n",
    "\n",
    "#### Answer:\n",
    "\n",
    "...\n",
    "\n",
    "### TODO: Train and evaluate your model\n",
    "\n",
    "Now you are ready to train your model. In Keras world, you first need to _compile_ your model by specifying the loss function and optimizer you want to use while training, as well as any evaluation metrics you'd like to measure. Specify the approprate parameters, including at least one metric `'accuracy'`."
   ]
  },
  {
   "cell_type": "code",
   "execution_count": 6,
   "metadata": {},
   "outputs": [],
   "source": [
    "# TODO: Compile your model, specifying a loss function, optimizer, and metrics\n",
    "model.compile(loss='binary_crossentropy', optimizer='adam', metrics=['accuracy'])"
   ]
  },
  {
   "cell_type": "markdown",
   "metadata": {},
   "source": [
    "Once compiled, you can kick off the training process. There are two important training parameters that you have to specify - **batch size** and **number of training epochs**, which together with your model architecture determine the total training time.\n",
    "\n",
    "Training may take a while, so grab a cup of coffee, or better, go for a hike! If possible, consider using a GPU, as a single training run can take several hours on a CPU.\n",
    "\n",
    "> **Tip**: You can split off a small portion of the training set to be used for validation during training. This will help monitor the training process and identify potential overfitting. You can supply a validation set to `model.fit()` using its `validation_data` parameter, or just specify `validation_split` - a fraction of the training data for Keras to set aside for this purpose (typically 5-10%). Validation metrics are evaluated once at the end of each epoch."
   ]
  },
  {
   "cell_type": "code",
   "execution_count": 7,
   "metadata": {},
   "outputs": [
    {
     "name": "stdout",
     "output_type": "stream",
     "text": [
      "Train on 24936 samples, validate on 64 samples\n",
      "Epoch 1/3\n",
      "24936/24936 [==============================] - 527s 21ms/step - loss: 0.5145 - acc: 0.7385 - val_loss: 0.4764 - val_acc: 0.8281\n",
      "Epoch 2/3\n",
      "24936/24936 [==============================] - 526s 21ms/step - loss: 0.3070 - acc: 0.8733 - val_loss: 0.4523 - val_acc: 0.7656\n",
      "Epoch 3/3\n",
      "24936/24936 [==============================] - 526s 21ms/step - loss: 0.2731 - acc: 0.8906 - val_loss: 0.4197 - val_acc: 0.8125\n"
     ]
    },
    {
     "data": {
      "text/plain": [
       "<keras.callbacks.History at 0x7fa3c18e9208>"
      ]
     },
     "execution_count": 7,
     "metadata": {},
     "output_type": "execute_result"
    }
   ],
   "source": [
    "# TODO: Specify training parameters: batch size and number of epochs\n",
    "batch_size = 64\n",
    "num_epochs = 3\n",
    "\n",
    "# TODO(optional): Reserve/specify some training data for validation (not to be used for training)\n",
    "X_valid, y_valid = X_train[:batch_size], y_train[:batch_size]  # first batch_size samples\n",
    "X_train2, y_train2 = X_train[batch_size:], y_train[batch_size:]  # rest for training\n",
    "\n",
    "# TODO: Train your model\n",
    "model.fit(X_train2, y_train2,\n",
    "          validation_data=(X_valid, y_valid),\n",
    "          batch_size=batch_size, epochs=num_epochs)"
   ]
  },
  {
   "cell_type": "markdown",
   "metadata": {},
   "source": [
    "Once you have trained your model, it's time to see how well it performs on unseen test data."
   ]
  },
  {
   "cell_type": "code",
   "execution_count": 10,
   "metadata": {},
   "outputs": [
    {
     "name": "stdout",
     "output_type": "stream",
     "text": [
      "Test accuracy: 0.83644\n"
     ]
    }
   ],
   "source": [
    "# Evaluate your model on the test set\n",
    "scores = model.evaluate(X_test, y_test, verbose=0)  # returns loss and other metrics specified in model.compile()\n",
    "print(\"Test accuracy:\", scores[1])  # scores[1] should correspond to accuracy if you passed in metrics=['accuracy']"
   ]
  },
  {
   "cell_type": "markdown",
   "metadata": {},
   "source": [
    "#### Question: Comparing RNNs and Traditional Methods\n",
    "\n",
    "How well does your RNN model perform compared to the BoW + Gradient-Boosted Decision Trees?\n",
    "\n",
    "#### Answer:\n",
    "\n",
    "...\n",
    "\n",
    "## Extensions\n",
    "\n",
    "There are several ways in which you can build upon this notebook. Each comes with its set of challenges, but can be a rewarding experience.\n",
    "\n",
    "- The first thing is to try and improve the accuracy of your model by experimenting with different architectures, layers and parameters. How good can you get without taking prohibitively long to train? How do you prevent overfitting?\n",
    "\n",
    "- Then, you may want to deploy your model as a mobile app or web service. What do you need to do in order to package your model for such deployment? How would you accept a new review, convert it into a form suitable for your model, and perform the actual prediction? (Note that the same environment you used during training may not be available.)\n",
    "\n",
    "- One simplification we made in this notebook is to limit the task to binary classification. The dataset actually includes a more fine-grained review rating that is indicated in each review's filename (which is of the form `<[id]_[rating].txt>` where `[id]` is a unique identifier and `[rating]` is on a scale of 1-10; note that neutral reviews > 4 or < 7 have been excluded). How would you modify the notebook to perform regression on the review ratings? In what situations is regression more useful than classification, and vice-versa?\n",
    "\n",
    "Whatever direction you take, make sure to share your results and learnings with your peers, through blogs, discussions and participating in online competitions. This is also a great way to become more visible to potential employers!"
   ]
  },
  {
   "cell_type": "code",
   "execution_count": null,
   "metadata": {},
   "outputs": [],
   "source": []
  }
 ],
 "metadata": {
  "kernelspec": {
   "display_name": "Python 3",
   "language": "python",
   "name": "python3"
  },
  "language_info": {
   "codemirror_mode": {
    "name": "ipython",
    "version": 3
   },
   "file_extension": ".py",
   "mimetype": "text/x-python",
   "name": "python",
   "nbconvert_exporter": "python",
   "pygments_lexer": "ipython3",
   "version": "3.6.3"
  }
 },
 "nbformat": 4,
 "nbformat_minor": 2
}
