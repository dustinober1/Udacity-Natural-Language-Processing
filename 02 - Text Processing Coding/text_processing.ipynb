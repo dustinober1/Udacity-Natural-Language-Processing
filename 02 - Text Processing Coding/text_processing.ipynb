{
 "cells": [
  {
   "cell_type": "markdown",
   "metadata": {},
   "source": [
    "# Text Processing\n",
    "\n",
    "## Capturing Text Data\n",
    "\n",
    "### Plain Text"
   ]
  },
  {
   "cell_type": "code",
   "execution_count": 1,
   "metadata": {},
   "outputs": [
    {
     "name": "stdout",
     "output_type": "stream",
     "text": [
      "Hieroglyphic writing dates from c. 3000 BC, and is composed of hundreds of symbols. A hieroglyph can represent a word, a sound, or a silent determinative; and the same symbol can serve different purposes in different contexts. Hieroglyphs were a formal script, used on stone monuments and in tombs, that could be as detailed as individual works of art.\n",
      "\n"
     ]
    }
   ],
   "source": [
    "import os\n",
    "\n",
    "# Read in a plain text file\n",
    "with open(os.path.join(\"data\", \"hieroglyph.txt\"), \"r\") as f:\n",
    "    text = f.read()\n",
    "    print(text)"
   ]
  },
  {
   "cell_type": "markdown",
   "metadata": {},
   "source": [
    "### Tabular Data"
   ]
  },
  {
   "cell_type": "code",
   "execution_count": 2,
   "metadata": {
    "scrolled": true
   },
   "outputs": [
    {
     "data": {
      "text/html": [
       "<div>\n",
       "<style scoped>\n",
       "    .dataframe tbody tr th:only-of-type {\n",
       "        vertical-align: middle;\n",
       "    }\n",
       "\n",
       "    .dataframe tbody tr th {\n",
       "        vertical-align: top;\n",
       "    }\n",
       "\n",
       "    .dataframe thead th {\n",
       "        text-align: right;\n",
       "    }\n",
       "</style>\n",
       "<table border=\"1\" class=\"dataframe\">\n",
       "  <thead>\n",
       "    <tr style=\"text-align: right;\">\n",
       "      <th></th>\n",
       "      <th>publisher</th>\n",
       "      <th>title</th>\n",
       "    </tr>\n",
       "  </thead>\n",
       "  <tbody>\n",
       "    <tr>\n",
       "      <th>0</th>\n",
       "      <td>Livemint</td>\n",
       "      <td>fed's charles plosser sees high bar for change...</td>\n",
       "    </tr>\n",
       "    <tr>\n",
       "      <th>1</th>\n",
       "      <td>IFA Magazine</td>\n",
       "      <td>us open: stocks fall after fed official hints ...</td>\n",
       "    </tr>\n",
       "    <tr>\n",
       "      <th>2</th>\n",
       "      <td>IFA Magazine</td>\n",
       "      <td>fed risks falling 'behind the curve', charles ...</td>\n",
       "    </tr>\n",
       "    <tr>\n",
       "      <th>3</th>\n",
       "      <td>Moneynews</td>\n",
       "      <td>fed's plosser: nasty weather has curbed job gr...</td>\n",
       "    </tr>\n",
       "    <tr>\n",
       "      <th>4</th>\n",
       "      <td>NASDAQ</td>\n",
       "      <td>plosser: fed may have to accelerate tapering pace</td>\n",
       "    </tr>\n",
       "  </tbody>\n",
       "</table>\n",
       "</div>"
      ],
      "text/plain": [
       "      publisher                                              title\n",
       "0      Livemint  fed's charles plosser sees high bar for change...\n",
       "1  IFA Magazine  us open: stocks fall after fed official hints ...\n",
       "2  IFA Magazine  fed risks falling 'behind the curve', charles ...\n",
       "3     Moneynews  fed's plosser: nasty weather has curbed job gr...\n",
       "4        NASDAQ  plosser: fed may have to accelerate tapering pace"
      ]
     },
     "execution_count": 2,
     "metadata": {},
     "output_type": "execute_result"
    }
   ],
   "source": [
    "import pandas as pd\n",
    "\n",
    "# Extract text column from a dataframe\n",
    "df = pd.read_csv(os.path.join(\"data\", \"news.csv\"))\n",
    "df.head()[['publisher', 'title']]\n",
    "\n",
    "# Convert text column to lowercase\n",
    "df['title'] = df['title'].str.lower()\n",
    "df.head()[['publisher', 'title']]"
   ]
  },
  {
   "cell_type": "markdown",
   "metadata": {},
   "source": [
    "### Online Resource"
   ]
  },
  {
   "cell_type": "code",
   "execution_count": 10,
   "metadata": {
    "scrolled": true
   },
   "outputs": [],
   "source": [
    "import requests\n",
    "import json\n",
    "\n",
    "# Fetch data from a REST API\n",
    "\n",
    "\n",
    "# Extract relevant object and field\n"
   ]
  },
  {
   "cell_type": "markdown",
   "metadata": {},
   "source": [
    "## Cleaning"
   ]
  },
  {
   "cell_type": "code",
   "execution_count": 11,
   "metadata": {
    "scrolled": true
   },
   "outputs": [
    {
     "name": "stdout",
     "output_type": "stream",
     "text": [
      "<html lang=\"en\" op=\"news\"><head><meta name=\"referrer\" content=\"origin\"><meta name=\"viewport\" content=\"width=device-width, initial-scale=1.0\"><link rel=\"stylesheet\" type=\"text/css\" href=\"news.css?YI39oovHn8QGdTOg4nbA\">\n",
      "        <link rel=\"shortcut icon\" href=\"favicon.ico\">\n",
      "          <link rel=\"alternate\" type=\"application/rss+xml\" title=\"RSS\" href=\"rss\">\n",
      "        <title>Hacker News</title></head><body><center><table id=\"hnmain\" border=\"0\" cellpadding=\"0\" cellspacing=\"0\" width=\"85%\" bgcolor=\"#f6f6ef\">\n",
      "        <tr><td bgcolor=\"#ff6600\"><table border=\"0\" cellpadding=\"0\" cellspacing=\"0\" width=\"100%\" style=\"padding:2px\"><tr><td style=\"width:18px;padding-right:4px\"><a href=\"https://news.ycombinator.com\"><img src=\"y18.gif\" width=\"18\" height=\"18\" style=\"border:1px white solid;\"></a></td>\n",
      "                  <td style=\"line-height:12pt; height:10px;\"><span class=\"pagetop\"><b class=\"hnname\"><a href=\"news\">Hacker News</a></b>\n",
      "                            <a href=\"newest\">new</a> | <a href=\"front\">past</a> | <a href=\"newcomments\">comments</a> | <a href=\"ask\">ask</a> | <a href=\"show\">show</a> | <a href=\"jobs\">jobs</a> | <a href=\"submit\">submit</a>            </span></td><td style=\"text-align:right;padding-right:4px;\"><span class=\"pagetop\">\n",
      "                              <a href=\"login?goto=news\">login</a>\n",
      "                          </span></td>\n",
      "              </tr></table></td></tr>\n",
      "<tr id=\"pagespace\" title=\"\" style=\"height:10px\"></tr><tr><td><table border=\"0\" cellpadding=\"0\" cellspacing=\"0\">\n",
      "            <tr class='athing' id='34094497'>\n",
      "      <td align=\"right\" valign=\"top\" class=\"title\"><span class=\"rank\">1.</span></td>      <td valign=\"top\" class=\"votelinks\"><center><a id='up_34094497'href='vote?id=34094497&amp;how=up&amp;goto=news'><div class='votearrow' title='upvote'></div></a></center></td><td class=\"title\"><span class=\"titleline\"><a href=\"https://f-droid.org/2022/12/18/unifiedpush.html\">UnifiedPush: A decentralized, open-source push notification protocol</a><span class=\"sitebit comhead\"> (<a href=\"from?site=f-droid.org\"><span class=\"sitestr\">f-droid.org</span></a>)</span></span></td></tr><tr><td colspan=\"2\"></td><td class=\"subtext\"><span class=\"subline\">\n",
      "          <span class=\"score\" id=\"score_34094497\">436 points</span> by <a href=\"user?id=mikece\" class=\"hnuser\">mikece</a> <span class=\"age\" title=\"2022-12-22T15:45:57\"><a href=\"item?id=34094497\">6 hours ago</a></span> <span id=\"unv_34094497\"></span> | <a href=\"hide?id=34094497&amp;goto=news\">hide</a> | <a href=\"item?id=34094497\">100&nbsp;comments</a>        </span>\n",
      "              </td></tr>\n",
      "      <tr class=\"spacer\" style=\"height:5px\"></tr>\n",
      "                <tr class='athing' id='34095954'>\n",
      "      <td align=\"right\" valign=\"top\" class=\"title\"><span class=\"rank\">2.</span></td>      <td valign=\"top\" class=\"votelinks\"><center><a id='up_34095954'href='vote?id=34095954&amp;how=up&amp;goto=news'><div class='votearrow' title='upvote'></div></a></center></td><td class=\"title\"><span class=\"titleline\"><a href=\"https://evoniuk.github.io/posts/pitfall.html\">How Pitfall builds its world (2021)</a><span class=\"sitebit comhead\"> (<a href=\"from?site=evoniuk.github.io\"><span class=\"sitestr\">evoniuk.github.io</span></a>)</span></span></td></tr><tr><td colspan=\"2\"></td><td class=\"subtext\"><span class=\"subline\">\n",
      "          <span class=\"score\" id=\"score_34095954\">202 points</span> by <a href=\"user?id=kibwen\" class=\"hnuser\">kibwen</a> <span class=\"age\" title=\"2022-12-22T17:30:42\"><a href=\"item?id=34095954\">5 hours ago</a></span> <span id=\"unv_34095954\"></span> | <a href=\"hide?id=34095954&amp;goto=news\">hide</a> | <a href=\"item?id=34095954\">67&nbsp;comments</a>        </span>\n",
      "              </td></tr>\n",
      "      <tr class=\"spacer\" style=\"height:5px\"></tr>\n",
      "                <tr class='athing' id='34097324'>\n",
      "      <td align=\"right\" valign=\"top\" class=\"title\"><span class=\"rank\">3.</span></td>      <td valign=\"top\" class=\"votelinks\"><center><a id='up_34097324'href='vote?id=34097324&amp;how=up&amp;goto=news'><div class='votearrow' title='upvote'></div></a></center></td><td class=\"title\"><span class=\"titleline\"><a href=\"https://bunny.net/blog/introducing-bunny-optimizer-ai-a-new-way-of-creating-content/\">Bunny AI</a><span class=\"sitebit comhead\"> (<a href=\"from?site=bunny.net\"><span class=\"sitestr\">bunny.net</span></a>)</span></span></td></tr><tr><td colspan=\"2\"></td><td class=\"subtext\"><span class=\"subline\">\n",
      "          <span class=\"score\" id=\"score_34097324\">107 points</span> by <a href=\"user?id=oedmarap\" class=\"hnuser\">oedmarap</a> <span class=\"age\" title=\"2022-12-22T19:22:35\"><a href=\"item?id=34097324\">3 hours ago</a></span> <span id=\"unv_34097324\"></span> | <a href=\"hide?id=34097324&amp;goto=news\">hide</a> | <a href=\"item?id=34097324\">29&nbsp;comments</a>        </span>\n",
      "              </td></tr>\n",
      "      <tr class=\"spacer\" style=\"height:5px\"></tr>\n",
      "                <tr class='athing' id='34095830'>\n",
      "      <td align=\"right\" valign=\"top\" class=\"title\"><span class=\"rank\">4.</span></td>      <td valign=\"top\" class=\"votelinks\"><center><a id='up_34095830'href='vote?id=34095830&amp;how=up&amp;goto=news'><div class='votearrow' title='upvote'></div></a></center></td><td class=\"title\"><span class=\"titleline\"><a href=\"https://devos50.github.io/blog/2022/ipod-touch-qemu/\">Emulating an iPod Touch 1G and iPhoneOS 1.0 using QEMU (Part I)</a><span class=\"sitebit comhead\"> (<a href=\"from?site=devos50.github.io\"><span class=\"sitestr\">devos50.github.io</span></a>)</span></span></td></tr><tr><td colspan=\"2\"></td><td class=\"subtext\"><span class=\"subline\">\n",
      "          <span class=\"score\" id=\"score_34095830\">206 points</span> by <a href=\"user?id=zdw\" class=\"hnuser\">zdw</a> <span class=\"age\" title=\"2022-12-22T17:22:01\"><a href=\"item?id=34095830\">5 hours ago</a></span> <span id=\"unv_34095830\"></span> | <a href=\"hide?id=34095830&amp;goto=news\">hide</a> | <a href=\"item?id=34095830\">43&nbsp;comments</a>        </span>\n",
      "              </td></tr>\n",
      "      <tr class=\"spacer\" style=\"height:5px\"></tr>\n",
      "                <tr class='athing' id='34098804'>\n",
      "      <td align=\"right\" valign=\"top\" class=\"title\"><span class=\"rank\">5.</span></td>      <td valign=\"top\" class=\"votelinks\"><center><a id='up_34098804'href='vote?id=34098804&amp;how=up&amp;goto=news'><div class='votearrow' title='upvote'></div></a></center></td><td class=\"title\"><span class=\"titleline\"><a href=\"https://www.zerodayinitiative.com/advisories/ZDI-22-1690/\">Linux Kernel Ksmbd Use-After-Free Remote Code Execution Vulnerability</a><span class=\"sitebit comhead\"> (<a href=\"from?site=zerodayinitiative.com\"><span class=\"sitestr\">zerodayinitiative.com</span></a>)</span></span></td></tr><tr><td colspan=\"2\"></td><td class=\"subtext\"><span class=\"subline\">\n",
      "          <span class=\"score\" id=\"score_34098804\">27 points</span> by <a href=\"user?id=choult\" class=\"hnuser\">choult</a> <span class=\"age\" title=\"2022-12-22T21:15:39\"><a href=\"item?id=34098804\">1 hour ago</a></span> <span id=\"unv_34098804\"></span> | <a href=\"hide?id=34098804&amp;goto=news\">hide</a> | <a href=\"item?id=34098804\">7&nbsp;comments</a>        </span>\n",
      "              </td></tr>\n",
      "      <tr class=\"spacer\" style=\"height:5px\"></tr>\n",
      "                <tr class='athing' id='34097936'>\n",
      "      <td align=\"right\" valign=\"top\" class=\"title\"><span class=\"rank\">6.</span></td>      <td valign=\"top\" class=\"votelinks\"><center><a id='up_34097936'href='vote?id=34097936&amp;how=up&amp;goto=news'><div class='votearrow' title='upvote'></div></a></center></td><td class=\"title\"><span class=\"titleline\"><a href=\"https://johanpeitz.itch.io/picosynth\">Pico8 Music Synthesizer</a><span class=\"sitebit comhead\"> (<a href=\"from?site=johanpeitz.itch.io\"><span class=\"sitestr\">johanpeitz.itch.io</span></a>)</span></span></td></tr><tr><td colspan=\"2\"></td><td class=\"subtext\"><span class=\"subline\">\n",
      "          <span class=\"score\" id=\"score_34097936\">50 points</span> by <a href=\"user?id=winkywooster\" class=\"hnuser\">winkywooster</a> <span class=\"age\" title=\"2022-12-22T20:06:52\"><a href=\"item?id=34097936\">2 hours ago</a></span> <span id=\"unv_34097936\"></span> | <a href=\"hide?id=34097936&amp;goto=news\">hide</a> | <a href=\"item?id=34097936\">6&nbsp;comments</a>        </span>\n",
      "              </td></tr>\n",
      "      <tr class=\"spacer\" style=\"height:5px\"></tr>\n",
      "                <tr class='athing' id='34097642'>\n",
      "      <td align=\"right\" valign=\"top\" class=\"title\"><span class=\"rank\">7.</span></td>      <td valign=\"top\" class=\"votelinks\"><center><a id='up_34097642'href='vote?id=34097642&amp;how=up&amp;goto=news'><div class='votearrow' title='upvote'></div></a></center></td><td class=\"title\"><span class=\"titleline\"><a href=\"https://huggingface.co/spaces/bigcode/santacoder-demo\">SantaCoder: A new 1.1B code model for generation and infilling</a><span class=\"sitebit comhead\"> (<a href=\"from?site=huggingface.co\"><span class=\"sitestr\">huggingface.co</span></a>)</span></span></td></tr><tr><td colspan=\"2\"></td><td class=\"subtext\"><span class=\"subline\">\n",
      "          <span class=\"score\" id=\"score_34097642\">64 points</span> by <a href=\"user?id=moyix\" class=\"hnuser\">moyix</a> <span class=\"age\" title=\"2022-12-22T19:45:44\"><a href=\"item?id=34097642\">2 hours ago</a></span> <span id=\"unv_34097642\"></span> | <a href=\"hide?id=34097642&amp;goto=news\">hide</a> | <a href=\"item?id=34097642\">23&nbsp;comments</a>        </span>\n",
      "              </td></tr>\n",
      "      <tr class=\"spacer\" style=\"height:5px\"></tr>\n",
      "                <tr class='athing' id='34096988'>\n",
      "      <td align=\"right\" valign=\"top\" class=\"title\"><span class=\"rank\">8.</span></td>      <td valign=\"top\" class=\"votelinks\"><center><a id='up_34096988'href='vote?id=34096988&amp;how=up&amp;goto=news'><div class='votearrow' title='upvote'></div></a></center></td><td class=\"title\"><span class=\"titleline\"><a href=\"https://statmodeling.stat.columbia.edu/2022/12/22/do-simpler-machine-learning-models-exist-and-how-can-we-find-them/\">Do simpler machine learning models exist and how can we find them?</a><span class=\"sitebit comhead\"> (<a href=\"from?site=columbia.edu\"><span class=\"sitestr\">columbia.edu</span></a>)</span></span></td></tr><tr><td colspan=\"2\"></td><td class=\"subtext\"><span class=\"subline\">\n",
      "          <span class=\"score\" id=\"score_34096988\">85 points</span> by <a href=\"user?id=luu\" class=\"hnuser\">luu</a> <span class=\"age\" title=\"2022-12-22T18:56:34\"><a href=\"item?id=34096988\">3 hours ago</a></span> <span id=\"unv_34096988\"></span> | <a href=\"hide?id=34096988&amp;goto=news\">hide</a> | <a href=\"item?id=34096988\">49&nbsp;comments</a>        </span>\n",
      "              </td></tr>\n",
      "      <tr class=\"spacer\" style=\"height:5px\"></tr>\n",
      "                <tr class='athing' id='34098610'>\n",
      "      <td align=\"right\" valign=\"top\" class=\"title\"><span class=\"rank\">9.</span></td>      <td><img src=\"s.gif\" height=\"1\" width=\"14\"></td>       <td class=\"title\"><span class=\"titleline\"><a href=\"https://www.patterns.app/\">Patterns (YC S21), a platform to build next-gen AI systems, is hiring devs</a><span class=\"sitebit comhead\"> (<a href=\"from?site=patterns.app\"><span class=\"sitestr\">patterns.app</span></a>)</span></span></td></tr><tr><td colspan=\"2\"></td><td class=\"subtext\">\n",
      "        <span class=\"age\" title=\"2022-12-22T21:00:13\"><a href=\"item?id=34098610\">1 hour ago</a></span> | <a href=\"hide?id=34098610&amp;goto=news\">hide</a>      </td></tr>\n",
      "      <tr class=\"spacer\" style=\"height:5px\"></tr>\n",
      "                <tr class='athing' id='34098367'>\n",
      "      <td align=\"right\" valign=\"top\" class=\"title\"><span class=\"rank\">10.</span></td>      <td valign=\"top\" class=\"votelinks\"><center><a id='up_34098367'href='vote?id=34098367&amp;how=up&amp;goto=news'><div class='votearrow' title='upvote'></div></a></center></td><td class=\"title\"><span class=\"titleline\"><a href=\"https://www.paolomainardi.com/posts/docker-performance-macos/\">Docker on MacOS is slow and how to fix it</a><span class=\"sitebit comhead\"> (<a href=\"from?site=paolomainardi.com\"><span class=\"sitestr\">paolomainardi.com</span></a>)</span></span></td></tr><tr><td colspan=\"2\"></td><td class=\"subtext\"><span class=\"subline\">\n",
      "          <span class=\"score\" id=\"score_34098367\">41 points</span> by <a href=\"user?id=riccardomc\" class=\"hnuser\">riccardomc</a> <span class=\"age\" title=\"2022-12-22T20:42:12\"><a href=\"item?id=34098367\">1 hour ago</a></span> <span id=\"unv_34098367\"></span> | <a href=\"hide?id=34098367&amp;goto=news\">hide</a> | <a href=\"item?id=34098367\">13&nbsp;comments</a>        </span>\n",
      "              </td></tr>\n",
      "      <tr class=\"spacer\" style=\"height:5px\"></tr>\n",
      "                <tr class='athing' id='34097682'>\n",
      "      <td align=\"right\" valign=\"top\" class=\"title\"><span class=\"rank\">11.</span></td>      <td valign=\"top\" class=\"votelinks\"><center><a id='up_34097682'href='vote?id=34097682&amp;how=up&amp;goto=news'><div class='votearrow' title='upvote'></div></a></center></td><td class=\"title\"><span class=\"titleline\"><a href=\"http://www.lispworks.com/products/myths_and_legends.html\">Common Lisp – Myths and Legends (2002)</a><span class=\"sitebit comhead\"> (<a href=\"from?site=lispworks.com\"><span class=\"sitestr\">lispworks.com</span></a>)</span></span></td></tr><tr><td colspan=\"2\"></td><td class=\"subtext\"><span class=\"subline\">\n",
      "          <span class=\"score\" id=\"score_34097682\">51 points</span> by <a href=\"user?id=susam\" class=\"hnuser\">susam</a> <span class=\"age\" title=\"2022-12-22T19:48:24\"><a href=\"item?id=34097682\">2 hours ago</a></span> <span id=\"unv_34097682\"></span> | <a href=\"hide?id=34097682&amp;goto=news\">hide</a> | <a href=\"item?id=34097682\">35&nbsp;comments</a>        </span>\n",
      "              </td></tr>\n",
      "      <tr class=\"spacer\" style=\"height:5px\"></tr>\n",
      "                <tr class='athing' id='34098288'>\n",
      "      <td align=\"right\" valign=\"top\" class=\"title\"><span class=\"rank\">12.</span></td>      <td valign=\"top\" class=\"votelinks\"><center><a id='up_34098288'href='vote?id=34098288&amp;how=up&amp;goto=news'><div class='votearrow' title='upvote'></div></a></center></td><td class=\"title\"><span class=\"titleline\"><a href=\"https://www.nngroup.com/articles/optional-registration/\">Don&#x27;t force users to register before they can buy (2015)</a><span class=\"sitebit comhead\"> (<a href=\"from?site=nngroup.com\"><span class=\"sitestr\">nngroup.com</span></a>)</span></span></td></tr><tr><td colspan=\"2\"></td><td class=\"subtext\"><span class=\"subline\">\n",
      "          <span class=\"score\" id=\"score_34098288\">100 points</span> by <a href=\"user?id=acqbu\" class=\"hnuser\">acqbu</a> <span class=\"age\" title=\"2022-12-22T20:35:10\"><a href=\"item?id=34098288\">2 hours ago</a></span> <span id=\"unv_34098288\"></span> | <a href=\"hide?id=34098288&amp;goto=news\">hide</a> | <a href=\"item?id=34098288\">48&nbsp;comments</a>        </span>\n",
      "              </td></tr>\n",
      "      <tr class=\"spacer\" style=\"height:5px\"></tr>\n",
      "                <tr class='athing' id='34095032'>\n",
      "      <td align=\"right\" valign=\"top\" class=\"title\"><span class=\"rank\">13.</span></td>      <td valign=\"top\" class=\"votelinks\"><center><a id='up_34095032'href='vote?id=34095032&amp;how=up&amp;goto=news'><div class='votearrow' title='upvote'></div></a></center></td><td class=\"title\"><span class=\"titleline\"><a href=\"https://randomascii.wordpress.com/2017/07/09/24-core-cpu-and-i-cant-move-my-mouse/\">24-core CPU and I can’t move my mouse (2017)</a><span class=\"sitebit comhead\"> (<a href=\"from?site=randomascii.wordpress.com\"><span class=\"sitestr\">randomascii.wordpress.com</span></a>)</span></span></td></tr><tr><td colspan=\"2\"></td><td class=\"subtext\"><span class=\"subline\">\n",
      "          <span class=\"score\" id=\"score_34095032\">141 points</span> by <a href=\"user?id=thunderbong\" class=\"hnuser\">thunderbong</a> <span class=\"age\" title=\"2022-12-22T16:23:49\"><a href=\"item?id=34095032\">6 hours ago</a></span> <span id=\"unv_34095032\"></span> | <a href=\"hide?id=34095032&amp;goto=news\">hide</a> | <a href=\"item?id=34095032\">144&nbsp;comments</a>        </span>\n",
      "              </td></tr>\n",
      "      <tr class=\"spacer\" style=\"height:5px\"></tr>\n",
      "                <tr class='athing' id='34098132'>\n",
      "      <td align=\"right\" valign=\"top\" class=\"title\"><span class=\"rank\">14.</span></td>      <td valign=\"top\" class=\"votelinks\"><center><a id='up_34098132'href='vote?id=34098132&amp;how=up&amp;goto=news'><div class='votearrow' title='upvote'></div></a></center></td><td class=\"title\"><span class=\"titleline\"><a href=\"https://www.forbes.com/sites/emilybaker-white/2022/12/22/tiktok-tracks-forbes-journalists-bytedance/\">ByteDance confirmed it used TikTok to monitor journalists’ physical location</a><span class=\"sitebit comhead\"> (<a href=\"from?site=forbes.com/sites/emilybaker-white\"><span class=\"sitestr\">forbes.com/sites/emilybaker-white</span></a>)</span></span></td></tr><tr><td colspan=\"2\"></td><td class=\"subtext\"><span class=\"subline\">\n",
      "          <span class=\"score\" id=\"score_34098132\">274 points</span> by <a href=\"user?id=alphabetting\" class=\"hnuser\">alphabetting</a> <span class=\"age\" title=\"2022-12-22T20:22:08\"><a href=\"item?id=34098132\">2 hours ago</a></span> <span id=\"unv_34098132\"></span> | <a href=\"hide?id=34098132&amp;goto=news\">hide</a> | <a href=\"item?id=34098132\">135&nbsp;comments</a>        </span>\n",
      "              </td></tr>\n",
      "      <tr class=\"spacer\" style=\"height:5px\"></tr>\n",
      "                <tr class='athing' id='34097108'>\n",
      "      <td align=\"right\" valign=\"top\" class=\"title\"><span class=\"rank\">15.</span></td>      <td valign=\"top\" class=\"votelinks\"><center><a id='up_34097108'href='vote?id=34097108&amp;how=up&amp;goto=news'><div class='votearrow' title='upvote'></div></a></center></td><td class=\"title\"><span class=\"titleline\"><a href=\"https://greydanus.github.io/2020/12/01/scaling-down/\">Scaling Down Deep Learning</a><span class=\"sitebit comhead\"> (<a href=\"from?site=greydanus.github.io\"><span class=\"sitestr\">greydanus.github.io</span></a>)</span></span></td></tr><tr><td colspan=\"2\"></td><td class=\"subtext\"><span class=\"subline\">\n",
      "          <span class=\"score\" id=\"score_34097108\">56 points</span> by <a href=\"user?id=caprock\" class=\"hnuser\">caprock</a> <span class=\"age\" title=\"2022-12-22T19:04:39\"><a href=\"item?id=34097108\">3 hours ago</a></span> <span id=\"unv_34097108\"></span> | <a href=\"hide?id=34097108&amp;goto=news\">hide</a> | <a href=\"item?id=34097108\">7&nbsp;comments</a>        </span>\n",
      "              </td></tr>\n",
      "      <tr class=\"spacer\" style=\"height:5px\"></tr>\n",
      "                <tr class='athing' id='34085127'>\n",
      "      <td align=\"right\" valign=\"top\" class=\"title\"><span class=\"rank\">16.</span></td>      <td valign=\"top\" class=\"votelinks\"><center><a id='up_34085127'href='vote?id=34085127&amp;how=up&amp;goto=news'><div class='votearrow' title='upvote'></div></a></center></td><td class=\"title\"><span class=\"titleline\"><a href=\"https://www.philipithomas.com/posts/why-i-built-postcard-a-calmer-alternative-to-social-networks\">Personal newsletters as a calmer alternative to social networks</a><span class=\"sitebit comhead\"> (<a href=\"from?site=philipithomas.com\"><span class=\"sitestr\">philipithomas.com</span></a>)</span></span></td></tr><tr><td colspan=\"2\"></td><td class=\"subtext\"><span class=\"subline\">\n",
      "          <span class=\"score\" id=\"score_34085127\">75 points</span> by <a href=\"user?id=philip1209\" class=\"hnuser\">philip1209</a> <span class=\"age\" title=\"2022-12-21T19:20:16\"><a href=\"item?id=34085127\">4 hours ago</a></span> <span id=\"unv_34085127\"></span> | <a href=\"hide?id=34085127&amp;goto=news\">hide</a> | <a href=\"item?id=34085127\">43&nbsp;comments</a>        </span>\n",
      "              </td></tr>\n",
      "      <tr class=\"spacer\" style=\"height:5px\"></tr>\n",
      "                <tr class='athing' id='34097142'>\n",
      "      <td align=\"right\" valign=\"top\" class=\"title\"><span class=\"rank\">17.</span></td>      <td valign=\"top\" class=\"votelinks\"><center><a id='up_34097142'href='vote?id=34097142&amp;how=up&amp;goto=news'><div class='votearrow' title='upvote'></div></a></center></td><td class=\"title\"><span class=\"titleline\"><a href=\"https://blog.lastpass.com/2022/12/notice-of-recent-security-incident/\">Notice of Recent Security Incident [updated]</a><span class=\"sitebit comhead\"> (<a href=\"from?site=lastpass.com\"><span class=\"sitestr\">lastpass.com</span></a>)</span></span></td></tr><tr><td colspan=\"2\"></td><td class=\"subtext\"><span class=\"subline\">\n",
      "          <span class=\"score\" id=\"score_34097142\">179 points</span> by <a href=\"user?id=mikece\" class=\"hnuser\">mikece</a> <span class=\"age\" title=\"2022-12-22T19:07:27\"><a href=\"item?id=34097142\">3 hours ago</a></span> <span id=\"unv_34097142\"></span> | <a href=\"hide?id=34097142&amp;goto=news\">hide</a> | <a href=\"item?id=34097142\">88&nbsp;comments</a>        </span>\n",
      "              </td></tr>\n",
      "      <tr class=\"spacer\" style=\"height:5px\"></tr>\n",
      "                <tr class='athing' id='34094627'>\n",
      "      <td align=\"right\" valign=\"top\" class=\"title\"><span class=\"rank\">18.</span></td>      <td valign=\"top\" class=\"votelinks\"><center><a id='up_34094627'href='vote?id=34094627&amp;how=up&amp;goto=news'><div class='votearrow' title='upvote'></div></a></center></td><td class=\"title\"><span class=\"titleline\"><a href=\"https://www.benkuhn.net/abyss/\">Staring into the abyss as a core life skill</a><span class=\"sitebit comhead\"> (<a href=\"from?site=benkuhn.net\"><span class=\"sitestr\">benkuhn.net</span></a>)</span></span></td></tr><tr><td colspan=\"2\"></td><td class=\"subtext\"><span class=\"subline\">\n",
      "          <span class=\"score\" id=\"score_34094627\">180 points</span> by <a href=\"user?id=troydavis\" class=\"hnuser\">troydavis</a> <span class=\"age\" title=\"2022-12-22T15:54:24\"><a href=\"item?id=34094627\">6 hours ago</a></span> <span id=\"unv_34094627\"></span> | <a href=\"hide?id=34094627&amp;goto=news\">hide</a> | <a href=\"item?id=34094627\">149&nbsp;comments</a>        </span>\n",
      "              </td></tr>\n",
      "      <tr class=\"spacer\" style=\"height:5px\"></tr>\n",
      "                <tr class='athing' id='34093969'>\n",
      "      <td align=\"right\" valign=\"top\" class=\"title\"><span class=\"rank\">19.</span></td>      <td valign=\"top\" class=\"votelinks\"><center><a id='up_34093969'href='vote?id=34093969&amp;how=up&amp;goto=news'><div class='votearrow' title='upvote'></div></a></center></td><td class=\"title\"><span class=\"titleline\"><a href=\"https://cacm.acm.org/magazines/2023/1/267957-the-many-faces-of-resilience/fulltext\">The Many Faces of Resilience</a><span class=\"sitebit comhead\"> (<a href=\"from?site=acm.org\"><span class=\"sitestr\">acm.org</span></a>)</span></span></td></tr><tr><td colspan=\"2\"></td><td class=\"subtext\"><span class=\"subline\">\n",
      "          <span class=\"score\" id=\"score_34093969\">13 points</span> by <a href=\"user?id=yarapavan\" class=\"hnuser\">yarapavan</a> <span class=\"age\" title=\"2022-12-22T15:04:56\"><a href=\"item?id=34093969\">1 hour ago</a></span> <span id=\"unv_34093969\"></span> | <a href=\"hide?id=34093969&amp;goto=news\">hide</a> | <a href=\"item?id=34093969\">discuss</a>        </span>\n",
      "              </td></tr>\n",
      "      <tr class=\"spacer\" style=\"height:5px\"></tr>\n",
      "                <tr class='athing' id='34099446'>\n",
      "      <td align=\"right\" valign=\"top\" class=\"title\"><span class=\"rank\">20.</span></td>      <td valign=\"top\" class=\"votelinks\"><center><a id='up_34099446'href='vote?id=34099446&amp;how=up&amp;goto=news'><div class='votearrow' title='upvote'></div></a></center></td><td class=\"title\"><span class=\"titleline\"><a href=\"https://www.pcmag.com/news/40-years-of-pcmag-an-illustrated-guide\">40 Years of PCMag: An Illustrated Guide</a><span class=\"sitebit comhead\"> (<a href=\"from?site=pcmag.com\"><span class=\"sitestr\">pcmag.com</span></a>)</span></span></td></tr><tr><td colspan=\"2\"></td><td class=\"subtext\"><span class=\"subline\">\n",
      "          <span class=\"score\" id=\"score_34099446\">9 points</span> by <a href=\"user?id=susam\" class=\"hnuser\">susam</a> <span class=\"age\" title=\"2022-12-22T22:03:57\"><a href=\"item?id=34099446\">36 minutes ago</a></span> <span id=\"unv_34099446\"></span> | <a href=\"hide?id=34099446&amp;goto=news\">hide</a> | <a href=\"item?id=34099446\">2&nbsp;comments</a>        </span>\n",
      "              </td></tr>\n",
      "      <tr class=\"spacer\" style=\"height:5px\"></tr>\n",
      "                <tr class='athing' id='34096911'>\n",
      "      <td align=\"right\" valign=\"top\" class=\"title\"><span class=\"rank\">21.</span></td>      <td valign=\"top\" class=\"votelinks\"><center><a id='up_34096911'href='vote?id=34096911&amp;how=up&amp;goto=news'><div class='votearrow' title='upvote'></div></a></center></td><td class=\"title\"><span class=\"titleline\"><a href=\"https://www.cnbc.com/2022/12/22/ftx-founder-sam-bankman-fried-to-be-released-on-250-million-bail.html\">FTX founder Sam Bankman-Fried to be released on $250M bail</a><span class=\"sitebit comhead\"> (<a href=\"from?site=cnbc.com\"><span class=\"sitestr\">cnbc.com</span></a>)</span></span></td></tr><tr><td colspan=\"2\"></td><td class=\"subtext\"><span class=\"subline\">\n",
      "          <span class=\"score\" id=\"score_34096911\">116 points</span> by <a href=\"user?id=pseudolus\" class=\"hnuser\">pseudolus</a> <span class=\"age\" title=\"2022-12-22T18:50:20\"><a href=\"item?id=34096911\">3 hours ago</a></span> <span id=\"unv_34096911\"></span> | <a href=\"hide?id=34096911&amp;goto=news\">hide</a> | <a href=\"item?id=34096911\">205&nbsp;comments</a>        </span>\n",
      "              </td></tr>\n",
      "      <tr class=\"spacer\" style=\"height:5px\"></tr>\n",
      "                <tr class='athing' id='34097250'>\n",
      "      <td align=\"right\" valign=\"top\" class=\"title\"><span class=\"rank\">22.</span></td>      <td valign=\"top\" class=\"votelinks\"><center><a id='up_34097250'href='vote?id=34097250&amp;how=up&amp;goto=news'><div class='votearrow' title='upvote'></div></a></center></td><td class=\"title\"><span class=\"titleline\"><a href=\"https://whatisthequestion.wordpress.com/2022/12/22/hobbes-the-leviathan-in-modern-english-introduction/\">Hobbes: “Leviathan” in Modern English – Introduction</a><span class=\"sitebit comhead\"> (<a href=\"from?site=whatisthequestion.wordpress.com\"><span class=\"sitestr\">whatisthequestion.wordpress.com</span></a>)</span></span></td></tr><tr><td colspan=\"2\"></td><td class=\"subtext\"><span class=\"subline\">\n",
      "          <span class=\"score\" id=\"score_34097250\">22 points</span> by <a href=\"user?id=johngossman\" class=\"hnuser\">johngossman</a> <span class=\"age\" title=\"2022-12-22T19:17:04\"><a href=\"item?id=34097250\">2 hours ago</a></span> <span id=\"unv_34097250\"></span> | <a href=\"hide?id=34097250&amp;goto=news\">hide</a> | <a href=\"item?id=34097250\">6&nbsp;comments</a>        </span>\n",
      "              </td></tr>\n",
      "      <tr class=\"spacer\" style=\"height:5px\"></tr>\n",
      "                <tr class='athing' id='34099517'>\n",
      "      <td align=\"right\" valign=\"top\" class=\"title\"><span class=\"rank\">23.</span></td>      <td valign=\"top\" class=\"votelinks\"><center><a id='up_34099517'href='vote?id=34099517&amp;how=up&amp;goto=news'><div class='votearrow' title='upvote'></div></a></center></td><td class=\"title\"><span class=\"titleline\"><a href=\"https://github.com/metriport/metriport\">Show HN: Metriport – Open-source universal API for health data</a><span class=\"sitebit comhead\"> (<a href=\"from?site=github.com/metriport\"><span class=\"sitestr\">github.com/metriport</span></a>)</span></span></td></tr><tr><td colspan=\"2\"></td><td class=\"subtext\"><span class=\"subline\">\n",
      "          <span class=\"score\" id=\"score_34099517\">11 points</span> by <a href=\"user?id=celsinga\" class=\"hnuser\">celsinga</a> <span class=\"age\" title=\"2022-12-22T22:09:37\"><a href=\"item?id=34099517\">30 minutes ago</a></span> <span id=\"unv_34099517\"></span> | <a href=\"hide?id=34099517&amp;goto=news\">hide</a> | <a href=\"item?id=34099517\">discuss</a>        </span>\n",
      "              </td></tr>\n",
      "      <tr class=\"spacer\" style=\"height:5px\"></tr>\n",
      "                <tr class='athing' id='34090494'>\n",
      "      <td align=\"right\" valign=\"top\" class=\"title\"><span class=\"rank\">24.</span></td>      <td valign=\"top\" class=\"votelinks\"><center><a id='up_34090494'href='vote?id=34090494&amp;how=up&amp;goto=news'><div class='votearrow' title='upvote'></div></a></center></td><td class=\"title\"><span class=\"titleline\"><a href=\"https://deadspin.com/greetings-from-palau-the-micronesian-archipelago-that-1819864501\">The Archipelago That Baseball Built</a><span class=\"sitebit comhead\"> (<a href=\"from?site=deadspin.com\"><span class=\"sitestr\">deadspin.com</span></a>)</span></span></td></tr><tr><td colspan=\"2\"></td><td class=\"subtext\"><span class=\"subline\">\n",
      "          <span class=\"score\" id=\"score_34090494\">8 points</span> by <a href=\"user?id=skaldic\" class=\"hnuser\">skaldic</a> <span class=\"age\" title=\"2022-12-22T06:34:30\"><a href=\"item?id=34090494\">1 hour ago</a></span> <span id=\"unv_34090494\"></span> | <a href=\"hide?id=34090494&amp;goto=news\">hide</a> | <a href=\"item?id=34090494\">discuss</a>        </span>\n",
      "              </td></tr>\n",
      "      <tr class=\"spacer\" style=\"height:5px\"></tr>\n",
      "                <tr class='athing' id='34092033'>\n",
      "      <td align=\"right\" valign=\"top\" class=\"title\"><span class=\"rank\">25.</span></td>      <td valign=\"top\" class=\"votelinks\"><center><a id='up_34092033'href='vote?id=34092033&amp;how=up&amp;goto=news'><div class='votearrow' title='upvote'></div></a></center></td><td class=\"title\"><span class=\"titleline\"><a href=\"https://www.youtube.com/watch?v=LnEWO0h5Gjo\">90s VR Sainsbury&#x27;s [video]</a><span class=\"sitebit comhead\"> (<a href=\"from?site=youtube.com\"><span class=\"sitestr\">youtube.com</span></a>)</span></span></td></tr><tr><td colspan=\"2\"></td><td class=\"subtext\"><span class=\"subline\">\n",
      "          <span class=\"score\" id=\"score_34092033\">51 points</span> by <a href=\"user?id=wildpeaks\" class=\"hnuser\">wildpeaks</a> <span class=\"age\" title=\"2022-12-22T10:46:53\"><a href=\"item?id=34092033\">5 hours ago</a></span> <span id=\"unv_34092033\"></span> | <a href=\"hide?id=34092033&amp;goto=news\">hide</a> | <a href=\"item?id=34092033\">27&nbsp;comments</a>        </span>\n",
      "              </td></tr>\n",
      "      <tr class=\"spacer\" style=\"height:5px\"></tr>\n",
      "                <tr class='athing' id='34093356'>\n",
      "      <td align=\"right\" valign=\"top\" class=\"title\"><span class=\"rank\">26.</span></td>      <td valign=\"top\" class=\"votelinks\"><center><a id='up_34093356'href='vote?id=34093356&amp;how=up&amp;goto=news'><div class='votearrow' title='upvote'></div></a></center></td><td class=\"title\"><span class=\"titleline\"><a href=\"https://spectrum.ieee.org/thin-film-solar-panels\">Paper-Thin Solar Makes Any Surface Photovoltaic</a><span class=\"sitebit comhead\"> (<a href=\"from?site=ieee.org\"><span class=\"sitestr\">ieee.org</span></a>)</span></span></td></tr><tr><td colspan=\"2\"></td><td class=\"subtext\"><span class=\"subline\">\n",
      "          <span class=\"score\" id=\"score_34093356\">147 points</span> by <a href=\"user?id=rbanffy\" class=\"hnuser\">rbanffy</a> <span class=\"age\" title=\"2022-12-22T14:08:00\"><a href=\"item?id=34093356\">8 hours ago</a></span> <span id=\"unv_34093356\"></span> | <a href=\"hide?id=34093356&amp;goto=news\">hide</a> | <a href=\"item?id=34093356\">78&nbsp;comments</a>        </span>\n",
      "              </td></tr>\n",
      "      <tr class=\"spacer\" style=\"height:5px\"></tr>\n",
      "                <tr class='athing' id='34095775'>\n",
      "      <td align=\"right\" valign=\"top\" class=\"title\"><span class=\"rank\">27.</span></td>      <td valign=\"top\" class=\"votelinks\"><center><a id='up_34095775'href='vote?id=34095775&amp;how=up&amp;goto=news'><div class='votearrow' title='upvote'></div></a></center></td><td class=\"title\"><span class=\"titleline\"><a href=\"https://www.kalzumeus.com/2011/10/28/dont-call-yourself-a-programmer/\">Don&#x27;t call yourself a programmer, and other career advice (2011)</a><span class=\"sitebit comhead\"> (<a href=\"from?site=kalzumeus.com\"><span class=\"sitestr\">kalzumeus.com</span></a>)</span></span></td></tr><tr><td colspan=\"2\"></td><td class=\"subtext\"><span class=\"subline\">\n",
      "          <span class=\"score\" id=\"score_34095775\">85 points</span> by <a href=\"user?id=jckahn\" class=\"hnuser\">jckahn</a> <span class=\"age\" title=\"2022-12-22T17:17:46\"><a href=\"item?id=34095775\">5 hours ago</a></span> <span id=\"unv_34095775\"></span> | <a href=\"hide?id=34095775&amp;goto=news\">hide</a> | <a href=\"item?id=34095775\">76&nbsp;comments</a>        </span>\n",
      "              </td></tr>\n",
      "      <tr class=\"spacer\" style=\"height:5px\"></tr>\n",
      "                <tr class='athing' id='34092934'>\n",
      "      <td align=\"right\" valign=\"top\" class=\"title\"><span class=\"rank\">28.</span></td>      <td valign=\"top\" class=\"votelinks\"><center><a id='up_34092934'href='vote?id=34092934&amp;how=up&amp;goto=news'><div class='votearrow' title='upvote'></div></a></center></td><td class=\"title\"><span class=\"titleline\"><a href=\"https://eandt.theiet.org/content/articles/2022/12/japan-to-invest-on-nuclear-energy-in-major-policy-shift/\">Japan to invest on nuclear energy in major policy shift</a><span class=\"sitebit comhead\"> (<a href=\"from?site=theiet.org\"><span class=\"sitestr\">theiet.org</span></a>)</span></span></td></tr><tr><td colspan=\"2\"></td><td class=\"subtext\"><span class=\"subline\">\n",
      "          <span class=\"score\" id=\"score_34092934\">492 points</span> by <a href=\"user?id=geox\" class=\"hnuser\">geox</a> <span class=\"age\" title=\"2022-12-22T13:18:03\"><a href=\"item?id=34092934\">9 hours ago</a></span> <span id=\"unv_34092934\"></span> | <a href=\"hide?id=34092934&amp;goto=news\">hide</a> | <a href=\"item?id=34092934\">389&nbsp;comments</a>        </span>\n",
      "              </td></tr>\n",
      "      <tr class=\"spacer\" style=\"height:5px\"></tr>\n",
      "                <tr class='athing' id='34092645'>\n",
      "      <td align=\"right\" valign=\"top\" class=\"title\"><span class=\"rank\">29.</span></td>      <td valign=\"top\" class=\"votelinks\"><center><a id='up_34092645'href='vote?id=34092645&amp;how=up&amp;goto=news'><div class='votearrow' title='upvote'></div></a></center></td><td class=\"title\"><span class=\"titleline\"><a href=\"https://www.moderndescartes.com/essays/sql_join/\">For Want of a JOIN</a><span class=\"sitebit comhead\"> (<a href=\"from?site=moderndescartes.com\"><span class=\"sitestr\">moderndescartes.com</span></a>)</span></span></td></tr><tr><td colspan=\"2\"></td><td class=\"subtext\"><span class=\"subline\">\n",
      "          <span class=\"score\" id=\"score_34092645\">232 points</span> by <a href=\"user?id=subset\" class=\"hnuser\">subset</a> <span class=\"age\" title=\"2022-12-22T12:28:04\"><a href=\"item?id=34092645\">10 hours ago</a></span> <span id=\"unv_34092645\"></span> | <a href=\"hide?id=34092645&amp;goto=news\">hide</a> | <a href=\"item?id=34092645\">239&nbsp;comments</a>        </span>\n",
      "              </td></tr>\n",
      "      <tr class=\"spacer\" style=\"height:5px\"></tr>\n",
      "                <tr class='athing' id='34090484'>\n",
      "      <td align=\"right\" valign=\"top\" class=\"title\"><span class=\"rank\">30.</span></td>      <td valign=\"top\" class=\"votelinks\"><center><a id='up_34090484'href='vote?id=34090484&amp;how=up&amp;goto=news'><div class='votearrow' title='upvote'></div></a></center></td><td class=\"title\"><span class=\"titleline\"><a href=\"https://www.chicagotribune.com/entertainment/books/ct-prj-great-gatsby-f-scott-fitzgerald-hl-mencken-20141010-story.html\">H.L. Mencken Reviews the Great Gatsby (1925)</a><span class=\"sitebit comhead\"> (<a href=\"from?site=chicagotribune.com\"><span class=\"sitestr\">chicagotribune.com</span></a>)</span></span></td></tr><tr><td colspan=\"2\"></td><td class=\"subtext\"><span class=\"subline\">\n",
      "          <span class=\"score\" id=\"score_34090484\">53 points</span> by <a href=\"user?id=collapse\" class=\"hnuser\">collapse</a> <span class=\"age\" title=\"2022-12-22T06:32:26\"><a href=\"item?id=34090484\">6 hours ago</a></span> <span id=\"unv_34090484\"></span> | <a href=\"hide?id=34090484&amp;goto=news\">hide</a> | <a href=\"item?id=34090484\">48&nbsp;comments</a>        </span>\n",
      "              </td></tr>\n",
      "      <tr class=\"spacer\" style=\"height:5px\"></tr>\n",
      "            <tr class=\"morespace\" style=\"height:10px\"></tr><tr><td colspan=\"2\"></td>\n",
      "      <td class='title'><a href='?p=2' class='morelink' rel='next'>More</a></td>    </tr>\n",
      "  </table>\n",
      "</td></tr>\n",
      "<tr><td><img src=\"s.gif\" height=\"10\" width=\"0\"><table width=\"100%\" cellspacing=\"0\" cellpadding=\"1\"><tr><td bgcolor=\"#ff6600\"></td></tr></table><br>\n",
      "<center><span class=\"yclinks\"><a href=\"newsguidelines.html\">Guidelines</a> | <a href=\"newsfaq.html\">FAQ</a> | <a href=\"lists\">Lists</a> | <a href=\"https://github.com/HackerNews/API\">API</a> | <a href=\"security.html\">Security</a> | <a href=\"https://www.ycombinator.com/legal/\">Legal</a> | <a href=\"https://www.ycombinator.com/apply/\">Apply to YC</a> | <a href=\"mailto:hn@ycombinator.com\">Contact</a></span><br><br>\n",
      "<form method=\"get\" action=\"//hn.algolia.com/\">Search: <input type=\"text\" name=\"q\" size=\"17\" autocorrect=\"off\" spellcheck=\"false\" autocapitalize=\"off\" autocomplete=\"false\"></form></center></td></tr>      </table></center></body>\n",
      "      <script type='text/javascript' src='hn.js?YI39oovHn8QGdTOg4nbA'></script>\n",
      "  </html>\n",
      "\n"
     ]
    }
   ],
   "source": [
    "import requests\n",
    "\n",
    "# Fetch a web page\n",
    "r = requests.get(\"https://news.ycombinator.com\")\n",
    "print(r.text)"
   ]
  },
  {
   "cell_type": "code",
   "execution_count": 12,
   "metadata": {},
   "outputs": [
    {
     "name": "stdout",
     "output_type": "stream",
     "text": [
      "\n",
      "        \n",
      "          \n",
      "        Hacker News\n",
      "        \n",
      "                  Hacker News\n",
      "                            new | past | comments | ask | show | jobs | submit            \n",
      "                              login\n",
      "                          \n",
      "              \n",
      "\n",
      "            \n",
      "      1.      UnifiedPush: A decentralized, open-source push notification protocol (f-droid.org)\n",
      "          436 points by mikece 6 hours ago  | hide | 100&nbsp;comments        \n",
      "              \n",
      "      \n",
      "                \n",
      "      2.      How Pitfall builds its world (2021) (evoniuk.github.io)\n",
      "          202 points by kibwen 5 hours ago  | hide | 67&nbsp;comments        \n",
      "              \n",
      "      \n",
      "                \n",
      "      3.      Bunny AI (bunny.net)\n",
      "          107 points by oedmarap 3 hours ago  | hide | 29&nbsp;comments        \n",
      "              \n",
      "      \n",
      "                \n",
      "      4.      Emulating an iPod Touch 1G and iPhoneOS 1.0 using QEMU (Part I) (devos50.github.io)\n",
      "          206 points by zdw 5 hours ago  | hide | 43&nbsp;comments        \n",
      "              \n",
      "      \n",
      "                \n",
      "      5.      Linux Kernel Ksmbd Use-After-Free Remote Code Execution Vulnerability (zerodayinitiative.com)\n",
      "          27 points by choult 1 hour ago  | hide | 7&nbsp;comments        \n",
      "              \n",
      "      \n",
      "                \n",
      "      6.      Pico8 Music Synthesizer (johanpeitz.itch.io)\n",
      "          50 points by winkywooster 2 hours ago  | hide | 6&nbsp;comments        \n",
      "              \n",
      "      \n",
      "                \n",
      "      7.      SantaCoder: A new 1.1B code model for generation and infilling (huggingface.co)\n",
      "          64 points by moyix 2 hours ago  | hide | 23&nbsp;comments        \n",
      "              \n",
      "      \n",
      "                \n",
      "      8.      Do simpler machine learning models exist and how can we find them? (columbia.edu)\n",
      "          85 points by luu 3 hours ago  | hide | 49&nbsp;comments        \n",
      "              \n",
      "      \n",
      "                \n",
      "      9.             Patterns (YC S21), a platform to build next-gen AI systems, is hiring devs (patterns.app)\n",
      "        1 hour ago | hide      \n",
      "      \n",
      "                \n",
      "      10.      Docker on MacOS is slow and how to fix it (paolomainardi.com)\n",
      "          41 points by riccardomc 1 hour ago  | hide | 13&nbsp;comments        \n",
      "              \n",
      "      \n",
      "                \n",
      "      11.      Common Lisp – Myths and Legends (2002) (lispworks.com)\n",
      "          51 points by susam 2 hours ago  | hide | 35&nbsp;comments        \n",
      "              \n",
      "      \n",
      "                \n",
      "      12.      Don&#x27;t force users to register before they can buy (2015) (nngroup.com)\n",
      "          100 points by acqbu 2 hours ago  | hide | 48&nbsp;comments        \n",
      "              \n",
      "      \n",
      "                \n",
      "      13.      24-core CPU and I can’t move my mouse (2017) (randomascii.wordpress.com)\n",
      "          141 points by thunderbong 6 hours ago  | hide | 144&nbsp;comments        \n",
      "              \n",
      "      \n",
      "                \n",
      "      14.      ByteDance confirmed it used TikTok to monitor journalists’ physical location (forbes.com/sites/emilybaker-white)\n",
      "          274 points by alphabetting 2 hours ago  | hide | 135&nbsp;comments        \n",
      "              \n",
      "      \n",
      "                \n",
      "      15.      Scaling Down Deep Learning (greydanus.github.io)\n",
      "          56 points by caprock 3 hours ago  | hide | 7&nbsp;comments        \n",
      "              \n",
      "      \n",
      "                \n",
      "      16.      Personal newsletters as a calmer alternative to social networks (philipithomas.com)\n",
      "          75 points by philip1209 4 hours ago  | hide | 43&nbsp;comments        \n",
      "              \n",
      "      \n",
      "                \n",
      "      17.      Notice of Recent Security Incident [updated] (lastpass.com)\n",
      "          179 points by mikece 3 hours ago  | hide | 88&nbsp;comments        \n",
      "              \n",
      "      \n",
      "                \n",
      "      18.      Staring into the abyss as a core life skill (benkuhn.net)\n",
      "          180 points by troydavis 6 hours ago  | hide | 149&nbsp;comments        \n",
      "              \n",
      "      \n",
      "                \n",
      "      19.      The Many Faces of Resilience (acm.org)\n",
      "          13 points by yarapavan 1 hour ago  | hide | discuss        \n",
      "              \n",
      "      \n",
      "                \n",
      "      20.      40 Years of PCMag: An Illustrated Guide (pcmag.com)\n",
      "          9 points by susam 36 minutes ago  | hide | 2&nbsp;comments        \n",
      "              \n",
      "      \n",
      "                \n",
      "      21.      FTX founder Sam Bankman-Fried to be released on $250M bail (cnbc.com)\n",
      "          116 points by pseudolus 3 hours ago  | hide | 205&nbsp;comments        \n",
      "              \n",
      "      \n",
      "                \n",
      "      22.      Hobbes: “Leviathan” in Modern English – Introduction (whatisthequestion.wordpress.com)\n",
      "          22 points by johngossman 2 hours ago  | hide | 6&nbsp;comments        \n",
      "              \n",
      "      \n",
      "                \n",
      "      23.      Show HN: Metriport – Open-source universal API for health data (github.com/metriport)\n",
      "          11 points by celsinga 30 minutes ago  | hide | discuss        \n",
      "              \n",
      "      \n",
      "                \n",
      "      24.      The Archipelago That Baseball Built (deadspin.com)\n",
      "          8 points by skaldic 1 hour ago  | hide | discuss        \n",
      "              \n",
      "      \n",
      "                \n",
      "      25.      90s VR Sainsbury&#x27;s [video] (youtube.com)\n",
      "          51 points by wildpeaks 5 hours ago  | hide | 27&nbsp;comments        \n",
      "              \n",
      "      \n",
      "                \n",
      "      26.      Paper-Thin Solar Makes Any Surface Photovoltaic (ieee.org)\n",
      "          147 points by rbanffy 8 hours ago  | hide | 78&nbsp;comments        \n",
      "              \n",
      "      \n",
      "                \n",
      "      27.      Don&#x27;t call yourself a programmer, and other career advice (2011) (kalzumeus.com)\n",
      "          85 points by jckahn 5 hours ago  | hide | 76&nbsp;comments        \n",
      "              \n",
      "      \n",
      "                \n",
      "      28.      Japan to invest on nuclear energy in major policy shift (theiet.org)\n",
      "          492 points by geox 9 hours ago  | hide | 389&nbsp;comments        \n",
      "              \n",
      "      \n",
      "                \n",
      "      29.      For Want of a JOIN (moderndescartes.com)\n",
      "          232 points by subset 10 hours ago  | hide | 239&nbsp;comments        \n",
      "              \n",
      "      \n",
      "                \n",
      "      30.      H.L. Mencken Reviews the Great Gatsby (1925) (chicagotribune.com)\n",
      "          53 points by collapse 6 hours ago  | hide | 48&nbsp;comments        \n",
      "              \n",
      "      \n",
      "            \n",
      "      More    \n",
      "  \n",
      "\n",
      "\n",
      "Guidelines | FAQ | Lists | API | Security | Legal | Apply to YC | Contact\n",
      "Search:       \n",
      "      \n",
      "  \n",
      "\n"
     ]
    }
   ],
   "source": [
    "import re\n",
    "\n",
    "# Remove HTML tags using RegEx\n",
    "pattern = re.compile(r'<.*?>')  # tags look like <...>\n",
    "print(pattern.sub('', r.text))  # replace them with blank"
   ]
  },
  {
   "cell_type": "code",
   "execution_count": 13,
   "metadata": {},
   "outputs": [
    {
     "name": "stdout",
     "output_type": "stream",
     "text": [
      "\n",
      "        \n",
      "          \n",
      "        Hacker News\n",
      "        \n",
      "                  Hacker News\n",
      "                            new | past | comments | ask | show | jobs | submit            \n",
      "                              login\n",
      "                          \n",
      "              \n",
      "\n",
      "            \n",
      "      1.      UnifiedPush: A decentralized, open-source push notification protocol (f-droid.org)\n",
      "          436 points by mikece 6 hours ago  | hide | 100 comments        \n",
      "              \n",
      "      \n",
      "                \n",
      "      2.      How Pitfall builds its world (2021) (evoniuk.github.io)\n",
      "          202 points by kibwen 5 hours ago  | hide | 67 comments        \n",
      "              \n",
      "      \n",
      "                \n",
      "      3.      Bunny AI (bunny.net)\n",
      "          107 points by oedmarap 3 hours ago  | hide | 29 comments        \n",
      "              \n",
      "      \n",
      "                \n",
      "      4.      Emulating an iPod Touch 1G and iPhoneOS 1.0 using QEMU (Part I) (devos50.github.io)\n",
      "          206 points by zdw 5 hours ago  | hide | 43 comments        \n",
      "              \n",
      "      \n",
      "                \n",
      "      5.      Linux Kernel Ksmbd Use-After-Free Remote Code Execution Vulnerability (zerodayinitiative.com)\n",
      "          27 points by choult 1 hour ago  | hide | 7 comments        \n",
      "              \n",
      "      \n",
      "                \n",
      "      6.      Pico8 Music Synthesizer (johanpeitz.itch.io)\n",
      "          50 points by winkywooster 2 hours ago  | hide | 6 comments        \n",
      "              \n",
      "      \n",
      "                \n",
      "      7.      SantaCoder: A new 1.1B code model for generation and infilling (huggingface.co)\n",
      "          64 points by moyix 2 hours ago  | hide | 23 comments        \n",
      "              \n",
      "      \n",
      "                \n",
      "      8.      Do simpler machine learning models exist and how can we find them? (columbia.edu)\n",
      "          85 points by luu 3 hours ago  | hide | 49 comments        \n",
      "              \n",
      "      \n",
      "                \n",
      "      9.             Patterns (YC S21), a platform to build next-gen AI systems, is hiring devs (patterns.app)\n",
      "        1 hour ago | hide      \n",
      "      \n",
      "                \n",
      "      10.      Docker on MacOS is slow and how to fix it (paolomainardi.com)\n",
      "          41 points by riccardomc 1 hour ago  | hide | 13 comments        \n",
      "              \n",
      "      \n",
      "                \n",
      "      11.      Common Lisp – Myths and Legends (2002) (lispworks.com)\n",
      "          51 points by susam 2 hours ago  | hide | 35 comments        \n",
      "              \n",
      "      \n",
      "                \n",
      "      12.      Don't force users to register before they can buy (2015) (nngroup.com)\n",
      "          100 points by acqbu 2 hours ago  | hide | 48 comments        \n",
      "              \n",
      "      \n",
      "                \n",
      "      13.      24-core CPU and I can’t move my mouse (2017) (randomascii.wordpress.com)\n",
      "          141 points by thunderbong 6 hours ago  | hide | 144 comments        \n",
      "              \n",
      "      \n",
      "                \n",
      "      14.      ByteDance confirmed it used TikTok to monitor journalists’ physical location (forbes.com/sites/emilybaker-white)\n",
      "          274 points by alphabetting 2 hours ago  | hide | 135 comments        \n",
      "              \n",
      "      \n",
      "                \n",
      "      15.      Scaling Down Deep Learning (greydanus.github.io)\n",
      "          56 points by caprock 3 hours ago  | hide | 7 comments        \n",
      "              \n",
      "      \n",
      "                \n",
      "      16.      Personal newsletters as a calmer alternative to social networks (philipithomas.com)\n",
      "          75 points by philip1209 4 hours ago  | hide | 43 comments        \n",
      "              \n",
      "      \n",
      "                \n",
      "      17.      Notice of Recent Security Incident [updated] (lastpass.com)\n",
      "          179 points by mikece 3 hours ago  | hide | 88 comments        \n",
      "              \n",
      "      \n",
      "                \n",
      "      18.      Staring into the abyss as a core life skill (benkuhn.net)\n",
      "          180 points by troydavis 6 hours ago  | hide | 149 comments        \n",
      "              \n",
      "      \n",
      "                \n",
      "      19.      The Many Faces of Resilience (acm.org)\n",
      "          13 points by yarapavan 1 hour ago  | hide | discuss        \n",
      "              \n",
      "      \n",
      "                \n",
      "      20.      40 Years of PCMag: An Illustrated Guide (pcmag.com)\n",
      "          9 points by susam 36 minutes ago  | hide | 2 comments        \n",
      "              \n",
      "      \n",
      "                \n",
      "      21.      FTX founder Sam Bankman-Fried to be released on $250M bail (cnbc.com)\n",
      "          116 points by pseudolus 3 hours ago  | hide | 205 comments        \n",
      "              \n",
      "      \n",
      "                \n",
      "      22.      Hobbes: “Leviathan” in Modern English – Introduction (whatisthequestion.wordpress.com)\n",
      "          22 points by johngossman 2 hours ago  | hide | 6 comments        \n",
      "              \n",
      "      \n",
      "                \n",
      "      23.      Show HN: Metriport – Open-source universal API for health data (github.com/metriport)\n",
      "          11 points by celsinga 30 minutes ago  | hide | discuss        \n",
      "              \n",
      "      \n",
      "                \n",
      "      24.      The Archipelago That Baseball Built (deadspin.com)\n",
      "          8 points by skaldic 1 hour ago  | hide | discuss        \n",
      "              \n",
      "      \n",
      "                \n",
      "      25.      90s VR Sainsbury's [video] (youtube.com)\n",
      "          51 points by wildpeaks 5 hours ago  | hide | 27 comments        \n",
      "              \n",
      "      \n",
      "                \n",
      "      26.      Paper-Thin Solar Makes Any Surface Photovoltaic (ieee.org)\n",
      "          147 points by rbanffy 8 hours ago  | hide | 78 comments        \n",
      "              \n",
      "      \n",
      "                \n",
      "      27.      Don't call yourself a programmer, and other career advice (2011) (kalzumeus.com)\n",
      "          85 points by jckahn 5 hours ago  | hide | 76 comments        \n",
      "              \n",
      "      \n",
      "                \n",
      "      28.      Japan to invest on nuclear energy in major policy shift (theiet.org)\n",
      "          492 points by geox 9 hours ago  | hide | 389 comments        \n",
      "              \n",
      "      \n",
      "                \n",
      "      29.      For Want of a JOIN (moderndescartes.com)\n",
      "          232 points by subset 10 hours ago  | hide | 239 comments        \n",
      "              \n",
      "      \n",
      "                \n",
      "      30.      H.L. Mencken Reviews the Great Gatsby (1925) (chicagotribune.com)\n",
      "          53 points by collapse 6 hours ago  | hide | 48 comments        \n",
      "              \n",
      "      \n",
      "            \n",
      "      More    \n",
      "  \n",
      "\n",
      "\n",
      "Guidelines | FAQ | Lists | API | Security | Legal | Apply to YC | Contact\n",
      "Search:       \n",
      "      \n",
      "  \n",
      "\n"
     ]
    }
   ],
   "source": [
    "from bs4 import BeautifulSoup\n",
    "\n",
    "# Remove HTML tags using Beautiful Soup library\n",
    "soup = BeautifulSoup(r.text, \"html5lib\")\n",
    "print(soup.get_text())"
   ]
  },
  {
   "cell_type": "code",
   "execution_count": 14,
   "metadata": {
    "scrolled": true
   },
   "outputs": [
    {
     "data": {
      "text/plain": [
       "<tr class=\"athing\" id=\"34094497\">\n",
       "      <td align=\"right\" class=\"title\" valign=\"top\"><span class=\"rank\">1.</span></td>      <td class=\"votelinks\" valign=\"top\"><center><a href=\"vote?id=34094497&amp;how=up&amp;goto=news\" id=\"up_34094497\"><div class=\"votearrow\" title=\"upvote\"></div></a></center></td><td class=\"title\"><span class=\"titleline\"><a href=\"https://f-droid.org/2022/12/18/unifiedpush.html\">UnifiedPush: A decentralized, open-source push notification protocol</a><span class=\"sitebit comhead\"> (<a href=\"from?site=f-droid.org\"><span class=\"sitestr\">f-droid.org</span></a>)</span></span></td></tr>"
      ]
     },
     "execution_count": 14,
     "metadata": {},
     "output_type": "execute_result"
    }
   ],
   "source": [
    "# Find all articles\n",
    "summaries = soup.find_all(\"tr\", class_=\"athing\")\n",
    "summaries[0]"
   ]
  },
  {
   "cell_type": "code",
   "execution_count": 15,
   "metadata": {},
   "outputs": [
    {
     "ename": "AttributeError",
     "evalue": "'NoneType' object has no attribute 'get_text'",
     "output_type": "error",
     "traceback": [
      "\u001b[0;31m---------------------------------------------------------------------------\u001b[0m",
      "\u001b[0;31mAttributeError\u001b[0m                            Traceback (most recent call last)",
      "\u001b[0;32m<ipython-input-15-091ccb7bd111>\u001b[0m in \u001b[0;36m<module>\u001b[0;34m()\u001b[0m\n\u001b[1;32m      1\u001b[0m \u001b[0;31m# Extract title\u001b[0m\u001b[0;34m\u001b[0m\u001b[0;34m\u001b[0m\u001b[0m\n\u001b[0;32m----> 2\u001b[0;31m \u001b[0msummaries\u001b[0m\u001b[0;34m[\u001b[0m\u001b[0;36m0\u001b[0m\u001b[0;34m]\u001b[0m\u001b[0;34m.\u001b[0m\u001b[0mfind\u001b[0m\u001b[0;34m(\u001b[0m\u001b[0;34m\"a\"\u001b[0m\u001b[0;34m,\u001b[0m \u001b[0mclass_\u001b[0m\u001b[0;34m=\u001b[0m\u001b[0;34m\"storylink\"\u001b[0m\u001b[0;34m)\u001b[0m\u001b[0;34m.\u001b[0m\u001b[0mget_text\u001b[0m\u001b[0;34m(\u001b[0m\u001b[0;34m)\u001b[0m\u001b[0;34m.\u001b[0m\u001b[0mstrip\u001b[0m\u001b[0;34m(\u001b[0m\u001b[0;34m)\u001b[0m\u001b[0;34m\u001b[0m\u001b[0m\n\u001b[0m",
      "\u001b[0;31mAttributeError\u001b[0m: 'NoneType' object has no attribute 'get_text'"
     ]
    }
   ],
   "source": [
    "# Extract title\n",
    "summaries[0].find(\"a\", class_=\"storylink\").get_text().strip()"
   ]
  },
  {
   "cell_type": "code",
   "execution_count": 9,
   "metadata": {},
   "outputs": [
    {
     "ename": "AttributeError",
     "evalue": "'NoneType' object has no attribute 'get_text'",
     "output_type": "error",
     "traceback": [
      "\u001b[0;31m---------------------------------------------------------------------------\u001b[0m",
      "\u001b[0;31mAttributeError\u001b[0m                            Traceback (most recent call last)",
      "\u001b[0;32m<ipython-input-9-f9b60b26bb8f>\u001b[0m in \u001b[0;36m<module>\u001b[0;34m()\u001b[0m\n\u001b[1;32m      3\u001b[0m \u001b[0msummaries\u001b[0m \u001b[0;34m=\u001b[0m \u001b[0msoup\u001b[0m\u001b[0;34m.\u001b[0m\u001b[0mfind_all\u001b[0m\u001b[0;34m(\u001b[0m\u001b[0;34m\"tr\"\u001b[0m\u001b[0;34m,\u001b[0m \u001b[0mclass_\u001b[0m\u001b[0;34m=\u001b[0m\u001b[0;34m\"athing\"\u001b[0m\u001b[0;34m)\u001b[0m\u001b[0;34m\u001b[0m\u001b[0m\n\u001b[1;32m      4\u001b[0m \u001b[0;32mfor\u001b[0m \u001b[0msummary\u001b[0m \u001b[0;32min\u001b[0m \u001b[0msummaries\u001b[0m\u001b[0;34m:\u001b[0m\u001b[0;34m\u001b[0m\u001b[0m\n\u001b[0;32m----> 5\u001b[0;31m     \u001b[0mtitle\u001b[0m \u001b[0;34m=\u001b[0m \u001b[0msummary\u001b[0m\u001b[0;34m.\u001b[0m\u001b[0mfind\u001b[0m\u001b[0;34m(\u001b[0m\u001b[0;34m\"a\"\u001b[0m\u001b[0;34m,\u001b[0m \u001b[0mclass_\u001b[0m\u001b[0;34m=\u001b[0m\u001b[0;34m\"storylink\"\u001b[0m\u001b[0;34m)\u001b[0m\u001b[0;34m.\u001b[0m\u001b[0mget_text\u001b[0m\u001b[0;34m(\u001b[0m\u001b[0;34m)\u001b[0m\u001b[0;34m.\u001b[0m\u001b[0mstrip\u001b[0m\u001b[0;34m(\u001b[0m\u001b[0;34m)\u001b[0m\u001b[0;34m\u001b[0m\u001b[0m\n\u001b[0m\u001b[1;32m      6\u001b[0m     \u001b[0marticles\u001b[0m\u001b[0;34m.\u001b[0m\u001b[0mappend\u001b[0m\u001b[0;34m(\u001b[0m\u001b[0;34m(\u001b[0m\u001b[0mtitle\u001b[0m\u001b[0;34m)\u001b[0m\u001b[0;34m)\u001b[0m\u001b[0;34m\u001b[0m\u001b[0m\n\u001b[1;32m      7\u001b[0m \u001b[0;34m\u001b[0m\u001b[0m\n",
      "\u001b[0;31mAttributeError\u001b[0m: 'NoneType' object has no attribute 'get_text'"
     ]
    }
   ],
   "source": [
    "# Find all articles, extract titles\n",
    "articles = []\n",
    "summaries = soup.find_all(\"tr\", class_=\"athing\")\n",
    "for summary in summaries:\n",
    "    title = summary.find(\"a\", class_=\"storylink\").get_text().strip()\n",
    "    articles.append((title))\n",
    "\n",
    "print(len(articles), \"Article summaries found. Sample:\")\n",
    "print(articles[0])"
   ]
  },
  {
   "cell_type": "markdown",
   "metadata": {
    "collapsed": true
   },
   "source": [
    "## Normalization"
   ]
  },
  {
   "cell_type": "markdown",
   "metadata": {},
   "source": [
    "### Case Normalization"
   ]
  },
  {
   "cell_type": "code",
   "execution_count": 16,
   "metadata": {},
   "outputs": [
    {
     "name": "stdout",
     "output_type": "stream",
     "text": [
      "The first time you see The Second Renaissance it may look boring. Look at it at least twice and definitely watch part 2. It will change your view of the matrix. Are the human people the ones who started the war ? Is AI a bad thing ?\n"
     ]
    }
   ],
   "source": [
    "# Sample text\n",
    "text = \"The first time you see The Second Renaissance it may look boring. Look at it at least twice and definitely watch part 2. It will change your view of the matrix. Are the human people the ones who started the war ? Is AI a bad thing ?\"\n",
    "print(text)"
   ]
  },
  {
   "cell_type": "code",
   "execution_count": 17,
   "metadata": {},
   "outputs": [
    {
     "name": "stdout",
     "output_type": "stream",
     "text": [
      "the first time you see the second renaissance it may look boring. look at it at least twice and definitely watch part 2. it will change your view of the matrix. are the human people the ones who started the war ? is ai a bad thing ?\n"
     ]
    }
   ],
   "source": [
    "# Convert to lowercase\n",
    "text = text.lower() \n",
    "print(text)"
   ]
  },
  {
   "cell_type": "markdown",
   "metadata": {},
   "source": [
    "### Punctuation Removal"
   ]
  },
  {
   "cell_type": "code",
   "execution_count": 18,
   "metadata": {},
   "outputs": [
    {
     "name": "stdout",
     "output_type": "stream",
     "text": [
      "the first time you see the second renaissance it may look boring  look at it at least twice and definitely watch part 2  it will change your view of the matrix  are the human people the ones who started the war   is ai a bad thing  \n"
     ]
    }
   ],
   "source": [
    "import re\n",
    "\n",
    "# Remove punctuation characters\n",
    "text = re.sub(r\"[^a-zA-Z0-9]\", \" \", text) \n",
    "print(text)"
   ]
  },
  {
   "cell_type": "markdown",
   "metadata": {},
   "source": [
    "## Tokenization"
   ]
  },
  {
   "cell_type": "code",
   "execution_count": 19,
   "metadata": {},
   "outputs": [
    {
     "name": "stdout",
     "output_type": "stream",
     "text": [
      "['the', 'first', 'time', 'you', 'see', 'the', 'second', 'renaissance', 'it', 'may', 'look', 'boring', 'look', 'at', 'it', 'at', 'least', 'twice', 'and', 'definitely', 'watch', 'part', '2', 'it', 'will', 'change', 'your', 'view', 'of', 'the', 'matrix', 'are', 'the', 'human', 'people', 'the', 'ones', 'who', 'started', 'the', 'war', 'is', 'ai', 'a', 'bad', 'thing']\n"
     ]
    }
   ],
   "source": [
    "# Split text into tokens (words)\n",
    "words = text.split()\n",
    "print(words)"
   ]
  },
  {
   "cell_type": "markdown",
   "metadata": {},
   "source": [
    "### NLTK: Natural Language ToolKit"
   ]
  },
  {
   "cell_type": "code",
   "execution_count": 20,
   "metadata": {},
   "outputs": [],
   "source": [
    "import os\n",
    "import nltk\n",
    "nltk.data.path.append(os.path.join(os.getcwd(), \"nltk_data\"))"
   ]
  },
  {
   "cell_type": "code",
   "execution_count": 21,
   "metadata": {},
   "outputs": [
    {
     "name": "stdout",
     "output_type": "stream",
     "text": [
      "Dr. Smith graduated from the University of Washington. He later started an analytics firm called Lux, which catered to enterprise customers.\n"
     ]
    }
   ],
   "source": [
    "# Another sample text\n",
    "text = \"Dr. Smith graduated from the University of Washington. He later started an analytics firm called Lux, which catered to enterprise customers.\"\n",
    "print(text)"
   ]
  },
  {
   "cell_type": "code",
   "execution_count": 22,
   "metadata": {},
   "outputs": [
    {
     "name": "stdout",
     "output_type": "stream",
     "text": [
      "['Dr.', 'Smith', 'graduated', 'from', 'the', 'University', 'of', 'Washington', '.', 'He', 'later', 'started', 'an', 'analytics', 'firm', 'called', 'Lux', ',', 'which', 'catered', 'to', 'enterprise', 'customers', '.']\n"
     ]
    }
   ],
   "source": [
    "from nltk.tokenize import word_tokenize\n",
    "\n",
    "# Split text into words using NLTK\n",
    "words = word_tokenize(text)\n",
    "print(words)"
   ]
  },
  {
   "cell_type": "code",
   "execution_count": 23,
   "metadata": {},
   "outputs": [
    {
     "name": "stdout",
     "output_type": "stream",
     "text": [
      "['Dr. Smith graduated from the University of Washington.', 'He later started an analytics firm called Lux, which catered to enterprise customers.']\n"
     ]
    }
   ],
   "source": [
    "from nltk.tokenize import sent_tokenize\n",
    "\n",
    "# Split text into sentences\n",
    "sentences = sent_tokenize(text)\n",
    "print(sentences)"
   ]
  },
  {
   "cell_type": "code",
   "execution_count": 24,
   "metadata": {},
   "outputs": [
    {
     "name": "stdout",
     "output_type": "stream",
     "text": [
      "['i', 'me', 'my', 'myself', 'we', 'our', 'ours', 'ourselves', 'you', \"you're\", \"you've\", \"you'll\", \"you'd\", 'your', 'yours', 'yourself', 'yourselves', 'he', 'him', 'his', 'himself', 'she', \"she's\", 'her', 'hers', 'herself', 'it', \"it's\", 'its', 'itself', 'they', 'them', 'their', 'theirs', 'themselves', 'what', 'which', 'who', 'whom', 'this', 'that', \"that'll\", 'these', 'those', 'am', 'is', 'are', 'was', 'were', 'be', 'been', 'being', 'have', 'has', 'had', 'having', 'do', 'does', 'did', 'doing', 'a', 'an', 'the', 'and', 'but', 'if', 'or', 'because', 'as', 'until', 'while', 'of', 'at', 'by', 'for', 'with', 'about', 'against', 'between', 'into', 'through', 'during', 'before', 'after', 'above', 'below', 'to', 'from', 'up', 'down', 'in', 'out', 'on', 'off', 'over', 'under', 'again', 'further', 'then', 'once', 'here', 'there', 'when', 'where', 'why', 'how', 'all', 'any', 'both', 'each', 'few', 'more', 'most', 'other', 'some', 'such', 'no', 'nor', 'not', 'only', 'own', 'same', 'so', 'than', 'too', 'very', 's', 't', 'can', 'will', 'just', 'don', \"don't\", 'should', \"should've\", 'now', 'd', 'll', 'm', 'o', 're', 've', 'y', 'ain', 'aren', \"aren't\", 'couldn', \"couldn't\", 'didn', \"didn't\", 'doesn', \"doesn't\", 'hadn', \"hadn't\", 'hasn', \"hasn't\", 'haven', \"haven't\", 'isn', \"isn't\", 'ma', 'mightn', \"mightn't\", 'mustn', \"mustn't\", 'needn', \"needn't\", 'shan', \"shan't\", 'shouldn', \"shouldn't\", 'wasn', \"wasn't\", 'weren', \"weren't\", 'won', \"won't\", 'wouldn', \"wouldn't\"]\n"
     ]
    }
   ],
   "source": [
    "# List stop words\n",
    "from nltk.corpus import stopwords\n",
    "print(stopwords.words(\"english\"))"
   ]
  },
  {
   "cell_type": "code",
   "execution_count": 25,
   "metadata": {},
   "outputs": [
    {
     "name": "stdout",
     "output_type": "stream",
     "text": [
      "['the', 'first', 'time', 'you', 'see', 'the', 'second', 'renaissance', 'it', 'may', 'look', 'boring', 'look', 'at', 'it', 'at', 'least', 'twice', 'and', 'definitely', 'watch', 'part', '2', 'it', 'will', 'change', 'your', 'view', 'of', 'the', 'matrix', 'are', 'the', 'human', 'people', 'the', 'ones', 'who', 'started', 'the', 'war', 'is', 'ai', 'a', 'bad', 'thing']\n"
     ]
    }
   ],
   "source": [
    "# Reset text\n",
    "text = \"The first time you see The Second Renaissance it may look boring. Look at it at least twice and definitely watch part 2. It will change your view of the matrix. Are the human people the ones who started the war ? Is AI a bad thing ?\"\n",
    "\n",
    "# Normalize it\n",
    "text = re.sub(r\"[^a-zA-Z0-9]\", \" \", text.lower())\n",
    "\n",
    "# Tokenize it\n",
    "words = text.split()\n",
    "print(words)"
   ]
  },
  {
   "cell_type": "code",
   "execution_count": 26,
   "metadata": {},
   "outputs": [
    {
     "name": "stdout",
     "output_type": "stream",
     "text": [
      "['first', 'time', 'see', 'second', 'renaissance', 'may', 'look', 'boring', 'look', 'least', 'twice', 'definitely', 'watch', 'part', '2', 'change', 'view', 'matrix', 'human', 'people', 'ones', 'started', 'war', 'ai', 'bad', 'thing']\n"
     ]
    }
   ],
   "source": [
    "# Remove stop words\n",
    "words = [w for w in words if w not in stopwords.words(\"english\")]\n",
    "print(words)"
   ]
  },
  {
   "cell_type": "markdown",
   "metadata": {},
   "source": [
    "### Sentence Parsing"
   ]
  },
  {
   "cell_type": "code",
   "execution_count": 27,
   "metadata": {},
   "outputs": [
    {
     "name": "stdout",
     "output_type": "stream",
     "text": [
      "(S\n",
      "  (NP I)\n",
      "  (VP\n",
      "    (VP (V shot) (NP (Det an) (N elephant)))\n",
      "    (PP (P in) (NP (Det my) (N pajamas)))))\n",
      "(S\n",
      "  (NP I)\n",
      "  (VP\n",
      "    (V shot)\n",
      "    (NP (Det an) (N elephant) (PP (P in) (NP (Det my) (N pajamas))))))\n"
     ]
    }
   ],
   "source": [
    "import nltk\n",
    "\n",
    "# Define a custom grammar\n",
    "my_grammar = nltk.CFG.fromstring(\"\"\"\n",
    "S -> NP VP\n",
    "PP -> P NP\n",
    "NP -> Det N | Det N PP | 'I'\n",
    "VP -> V NP | VP PP\n",
    "Det -> 'an' | 'my'\n",
    "N -> 'elephant' | 'pajamas'\n",
    "V -> 'shot'\n",
    "P -> 'in'\n",
    "\"\"\")\n",
    "parser = nltk.ChartParser(my_grammar)\n",
    "\n",
    "# Parse a sentence\n",
    "sentence = word_tokenize(\"I shot an elephant in my pajamas\")\n",
    "for tree in parser.parse(sentence):\n",
    "    print(tree)"
   ]
  },
  {
   "cell_type": "markdown",
   "metadata": {},
   "source": [
    "## Stemming & Lemmatization\n",
    "\n",
    "### Stemming"
   ]
  },
  {
   "cell_type": "code",
   "execution_count": 28,
   "metadata": {},
   "outputs": [
    {
     "name": "stdout",
     "output_type": "stream",
     "text": [
      "['first', 'time', 'see', 'second', 'renaiss', 'may', 'look', 'bore', 'look', 'least', 'twice', 'definit', 'watch', 'part', '2', 'chang', 'view', 'matrix', 'human', 'peopl', 'one', 'start', 'war', 'ai', 'bad', 'thing']\n"
     ]
    }
   ],
   "source": [
    "from nltk.stem.porter import PorterStemmer\n",
    "\n",
    "# Reduce words to their stems\n",
    "stemmed = [PorterStemmer().stem(w) for w in words]\n",
    "print(stemmed)"
   ]
  },
  {
   "cell_type": "markdown",
   "metadata": {},
   "source": [
    "### Lemmatization"
   ]
  },
  {
   "cell_type": "code",
   "execution_count": 29,
   "metadata": {},
   "outputs": [
    {
     "name": "stdout",
     "output_type": "stream",
     "text": [
      "['first', 'time', 'see', 'second', 'renaissance', 'may', 'look', 'boring', 'look', 'least', 'twice', 'definitely', 'watch', 'part', '2', 'change', 'view', 'matrix', 'human', 'people', 'one', 'started', 'war', 'ai', 'bad', 'thing']\n"
     ]
    }
   ],
   "source": [
    "from nltk.stem.wordnet import WordNetLemmatizer\n",
    "\n",
    "# Reduce words to their root form\n",
    "lemmed = [WordNetLemmatizer().lemmatize(w) for w in words]\n",
    "print(lemmed)"
   ]
  },
  {
   "cell_type": "code",
   "execution_count": 30,
   "metadata": {},
   "outputs": [
    {
     "name": "stdout",
     "output_type": "stream",
     "text": [
      "['first', 'time', 'see', 'second', 'renaissance', 'may', 'look', 'bore', 'look', 'least', 'twice', 'definitely', 'watch', 'part', '2', 'change', 'view', 'matrix', 'human', 'people', 'one', 'start', 'war', 'ai', 'bad', 'thing']\n"
     ]
    }
   ],
   "source": [
    "# Lemmatize verbs by specifying pos\n",
    "lemmed = [WordNetLemmatizer().lemmatize(w, pos='v') for w in lemmed]\n",
    "print(lemmed)"
   ]
  },
  {
   "cell_type": "code",
   "execution_count": null,
   "metadata": {},
   "outputs": [],
   "source": []
  }
 ],
 "metadata": {
  "kernelspec": {
   "display_name": "Python 3",
   "language": "python",
   "name": "python3"
  },
  "language_info": {
   "codemirror_mode": {
    "name": "ipython",
    "version": 3
   },
   "file_extension": ".py",
   "mimetype": "text/x-python",
   "name": "python",
   "nbconvert_exporter": "python",
   "pygments_lexer": "ipython3",
   "version": "3.6.3"
  }
 },
 "nbformat": 4,
 "nbformat_minor": 2
}
